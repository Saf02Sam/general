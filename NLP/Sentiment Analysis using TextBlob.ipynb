{
  "nbformat": 4,
  "nbformat_minor": 0,
  "metadata": {
    "colab": {
      "provenance": [],
      "authorship_tag": "ABX9TyNXoZRjClyGK9vU93//Qo1S"
    },
    "kernelspec": {
      "name": "python3",
      "display_name": "Python 3"
    },
    "language_info": {
      "name": "python"
    }
  },
  "cells": [
    {
      "cell_type": "code",
      "execution_count": 1,
      "metadata": {
        "id": "wOeb0lNzUY9Y",
        "colab": {
          "base_uri": "https://localhost:8080/"
        },
        "outputId": "50ed1e7d-39bc-4397-c8bb-1dbafd7c9f97"
      },
      "outputs": [
        {
          "output_type": "stream",
          "name": "stdout",
          "text": [
            "Please enter your product review: \n",
            "okay so ive been using the dasique corrector for months now and i do love it because of how creamy it is but it’s not the best option for everyone since they don’t offer a lot of shade ranges plus i don’t use all of the colors even though i tried so a better option would be the saem, i get more of the two colors that i actually use which are yellow and peach plus it applies just as nicely as the dasique and is much cheaper so i would def recommend it to anyone who wants to start color correcting. \n",
            "Sentiment: positive\n",
            "Polarity: 0.4\n"
          ]
        }
      ],
      "source": [
        "from textblob import TextBlob\n",
        "\n",
        "def analyze_sentiment(review):\n",
        "    analysis = TextBlob(review)\n",
        "    #Get the polarity score\n",
        "    polarity = analysis.sentiment.polarity\n",
        "    if polarity >0:\n",
        "      sentiment = 'positive'\n",
        "    elif polarity <0:\n",
        "      sentiment = 'negative'\n",
        "    else:\n",
        "      sentiment = 'neutral'\n",
        "    return sentiment, polarity\n",
        "\n",
        "#Prompt user for input\n",
        "customer_review = input(\"Please enter your product review: \\n\")\n",
        "\n",
        "#Analyze sentiment\n",
        "sentiment, polarity = analyze_sentiment(customer_review)\n",
        "\n",
        "#Print results\n",
        "print(f\"Sentiment: {sentiment}\")\n",
        "print(f\"Polarity: {polarity}\")"
      ]
    },
    {
      "cell_type": "code",
      "source": [],
      "metadata": {
        "id": "dNDao5ZuVUwn"
      },
      "execution_count": null,
      "outputs": []
    }
  ]
}
