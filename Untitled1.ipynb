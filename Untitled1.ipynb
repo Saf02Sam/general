{
  "nbformat": 4,
  "nbformat_minor": 0,
  "metadata": {
    "colab": {
      "provenance": [],
      "authorship_tag": "ABX9TyMCttFtQhpUp3Yfv9OPiz7O",
      "include_colab_link": true
    },
    "kernelspec": {
      "name": "python3",
      "display_name": "Python 3"
    },
    "language_info": {
      "name": "python"
    }
  },
  "cells": [
    {
      "cell_type": "markdown",
      "metadata": {
        "id": "view-in-github",
        "colab_type": "text"
      },
      "source": [
        "<a href=\"https://colab.research.google.com/github/Saf02Sam/general/blob/main/Untitled1.ipynb\" target=\"_parent\"><img src=\"https://colab.research.google.com/assets/colab-badge.svg\" alt=\"Open In Colab\"/></a>"
      ]
    },
    {
      "cell_type": "code",
      "source": [
        "import pandas as pd\n",
        "import re\n",
        "data=pd.read_csv(\"/content/goodreads_data.csv\")"
      ],
      "metadata": {
        "id": "1ospJXksYZDx"
      },
      "execution_count": null,
      "outputs": []
    },
    {
      "cell_type": "code",
      "source": [
        "data['Genres'] = data['Genres'].apply(lambda x: re.sub(r'[^a-zA-Z0-9\\s]', '', x))"
      ],
      "metadata": {
        "id": "OgYvclRAPuJ-"
      },
      "execution_count": null,
      "outputs": []
    },
    {
      "cell_type": "code",
      "source": [
        "genres=[]\n",
        "for i in range(0,data[data.columns[0]].count()):\n",
        "  data['Genres'][i]=data['Genres'][i].split(\" \")\n",
        "  for j in data['Genres'][i]:\n",
        "    if j not in genres:\n",
        "      genres.append(j)"
      ],
      "metadata": {
        "colab": {
          "base_uri": "https://localhost:8080/"
        },
        "id": "AXxLg_ATyvA0",
        "outputId": "0dba1d5f-cff1-476f-e1f7-2c250519e2dc"
      },
      "execution_count": null,
      "outputs": [
        {
          "output_type": "stream",
          "name": "stderr",
          "text": [
            "<ipython-input-3-94f20315fcb7>:3: SettingWithCopyWarning: \n",
            "A value is trying to be set on a copy of a slice from a DataFrame\n",
            "\n",
            "See the caveats in the documentation: https://pandas.pydata.org/pandas-docs/stable/user_guide/indexing.html#returning-a-view-versus-a-copy\n",
            "  data['Genres'][i]=data['Genres'][i].split(\" \")\n"
          ]
        }
      ]
    },
    {
      "cell_type": "code",
      "source": [
        "data=data.drop('Unnamed: 0',axis=1)\n",
        "data=data.drop('Description',axis=1)\n",
        "data=data.drop('URL',axis=1)\n",
        "data.head()"
      ],
      "metadata": {
        "colab": {
          "base_uri": "https://localhost:8080/",
          "height": 206
        },
        "id": "QiCiq1au08Ki",
        "outputId": "57618634-1e8f-477c-c1a3-e5604a505cd9"
      },
      "execution_count": null,
      "outputs": [
        {
          "output_type": "execute_result",
          "data": {
            "text/plain": [
              "                                                Book         Author  \\\n",
              "0                              To Kill a Mockingbird     Harper Lee   \n",
              "1  Harry Potter and the Philosopher’s Stone (Harr...   J.K. Rowling   \n",
              "2                                Pride and Prejudice    Jane Austen   \n",
              "3                          The Diary of a Young Girl     Anne Frank   \n",
              "4                                        Animal Farm  George Orwell   \n",
              "\n",
              "                                              Genres  Avg_Rating Num_Ratings  \n",
              "0  [Classics, Fiction, Historical, Fiction, Schoo...        4.27   5,691,311  \n",
              "1  [Fantasy, Fiction, Young, Adult, Magic, Childr...        4.47   9,278,135  \n",
              "2  [Classics, Fiction, Romance, Historical, Ficti...        4.28   3,944,155  \n",
              "3  [Classics, Nonfiction, History, Biography, Mem...        4.18   3,488,438  \n",
              "4  [Classics, Fiction, Dystopia, Fantasy, Politic...        3.98   3,575,172  "
            ],
            "text/html": [
              "\n",
              "\n",
              "  <div id=\"df-82954d4a-d7b7-41a1-98e5-b1928c8c4466\">\n",
              "    <div class=\"colab-df-container\">\n",
              "      <div>\n",
              "<style scoped>\n",
              "    .dataframe tbody tr th:only-of-type {\n",
              "        vertical-align: middle;\n",
              "    }\n",
              "\n",
              "    .dataframe tbody tr th {\n",
              "        vertical-align: top;\n",
              "    }\n",
              "\n",
              "    .dataframe thead th {\n",
              "        text-align: right;\n",
              "    }\n",
              "</style>\n",
              "<table border=\"1\" class=\"dataframe\">\n",
              "  <thead>\n",
              "    <tr style=\"text-align: right;\">\n",
              "      <th></th>\n",
              "      <th>Book</th>\n",
              "      <th>Author</th>\n",
              "      <th>Genres</th>\n",
              "      <th>Avg_Rating</th>\n",
              "      <th>Num_Ratings</th>\n",
              "    </tr>\n",
              "  </thead>\n",
              "  <tbody>\n",
              "    <tr>\n",
              "      <th>0</th>\n",
              "      <td>To Kill a Mockingbird</td>\n",
              "      <td>Harper Lee</td>\n",
              "      <td>[Classics, Fiction, Historical, Fiction, Schoo...</td>\n",
              "      <td>4.27</td>\n",
              "      <td>5,691,311</td>\n",
              "    </tr>\n",
              "    <tr>\n",
              "      <th>1</th>\n",
              "      <td>Harry Potter and the Philosopher’s Stone (Harr...</td>\n",
              "      <td>J.K. Rowling</td>\n",
              "      <td>[Fantasy, Fiction, Young, Adult, Magic, Childr...</td>\n",
              "      <td>4.47</td>\n",
              "      <td>9,278,135</td>\n",
              "    </tr>\n",
              "    <tr>\n",
              "      <th>2</th>\n",
              "      <td>Pride and Prejudice</td>\n",
              "      <td>Jane Austen</td>\n",
              "      <td>[Classics, Fiction, Romance, Historical, Ficti...</td>\n",
              "      <td>4.28</td>\n",
              "      <td>3,944,155</td>\n",
              "    </tr>\n",
              "    <tr>\n",
              "      <th>3</th>\n",
              "      <td>The Diary of a Young Girl</td>\n",
              "      <td>Anne Frank</td>\n",
              "      <td>[Classics, Nonfiction, History, Biography, Mem...</td>\n",
              "      <td>4.18</td>\n",
              "      <td>3,488,438</td>\n",
              "    </tr>\n",
              "    <tr>\n",
              "      <th>4</th>\n",
              "      <td>Animal Farm</td>\n",
              "      <td>George Orwell</td>\n",
              "      <td>[Classics, Fiction, Dystopia, Fantasy, Politic...</td>\n",
              "      <td>3.98</td>\n",
              "      <td>3,575,172</td>\n",
              "    </tr>\n",
              "  </tbody>\n",
              "</table>\n",
              "</div>\n",
              "      <button class=\"colab-df-convert\" onclick=\"convertToInteractive('df-82954d4a-d7b7-41a1-98e5-b1928c8c4466')\"\n",
              "              title=\"Convert this dataframe to an interactive table.\"\n",
              "              style=\"display:none;\">\n",
              "\n",
              "  <svg xmlns=\"http://www.w3.org/2000/svg\" height=\"24px\"viewBox=\"0 0 24 24\"\n",
              "       width=\"24px\">\n",
              "    <path d=\"M0 0h24v24H0V0z\" fill=\"none\"/>\n",
              "    <path d=\"M18.56 5.44l.94 2.06.94-2.06 2.06-.94-2.06-.94-.94-2.06-.94 2.06-2.06.94zm-11 1L8.5 8.5l.94-2.06 2.06-.94-2.06-.94L8.5 2.5l-.94 2.06-2.06.94zm10 10l.94 2.06.94-2.06 2.06-.94-2.06-.94-.94-2.06-.94 2.06-2.06.94z\"/><path d=\"M17.41 7.96l-1.37-1.37c-.4-.4-.92-.59-1.43-.59-.52 0-1.04.2-1.43.59L10.3 9.45l-7.72 7.72c-.78.78-.78 2.05 0 2.83L4 21.41c.39.39.9.59 1.41.59.51 0 1.02-.2 1.41-.59l7.78-7.78 2.81-2.81c.8-.78.8-2.07 0-2.86zM5.41 20L4 18.59l7.72-7.72 1.47 1.35L5.41 20z\"/>\n",
              "  </svg>\n",
              "      </button>\n",
              "\n",
              "\n",
              "\n",
              "    <div id=\"df-4fc540be-7827-4fac-97e2-99fbdf45b7bc\">\n",
              "      <button class=\"colab-df-quickchart\" onclick=\"quickchart('df-4fc540be-7827-4fac-97e2-99fbdf45b7bc')\"\n",
              "              title=\"Suggest charts.\"\n",
              "              style=\"display:none;\">\n",
              "\n",
              "<svg xmlns=\"http://www.w3.org/2000/svg\" height=\"24px\"viewBox=\"0 0 24 24\"\n",
              "     width=\"24px\">\n",
              "    <g>\n",
              "        <path d=\"M19 3H5c-1.1 0-2 .9-2 2v14c0 1.1.9 2 2 2h14c1.1 0 2-.9 2-2V5c0-1.1-.9-2-2-2zM9 17H7v-7h2v7zm4 0h-2V7h2v10zm4 0h-2v-4h2v4z\"/>\n",
              "    </g>\n",
              "</svg>\n",
              "      </button>\n",
              "    </div>\n",
              "\n",
              "<style>\n",
              "  .colab-df-quickchart {\n",
              "    background-color: #E8F0FE;\n",
              "    border: none;\n",
              "    border-radius: 50%;\n",
              "    cursor: pointer;\n",
              "    display: none;\n",
              "    fill: #1967D2;\n",
              "    height: 32px;\n",
              "    padding: 0 0 0 0;\n",
              "    width: 32px;\n",
              "  }\n",
              "\n",
              "  .colab-df-quickchart:hover {\n",
              "    background-color: #E2EBFA;\n",
              "    box-shadow: 0px 1px 2px rgba(60, 64, 67, 0.3), 0px 1px 3px 1px rgba(60, 64, 67, 0.15);\n",
              "    fill: #174EA6;\n",
              "  }\n",
              "\n",
              "  [theme=dark] .colab-df-quickchart {\n",
              "    background-color: #3B4455;\n",
              "    fill: #D2E3FC;\n",
              "  }\n",
              "\n",
              "  [theme=dark] .colab-df-quickchart:hover {\n",
              "    background-color: #434B5C;\n",
              "    box-shadow: 0px 1px 3px 1px rgba(0, 0, 0, 0.15);\n",
              "    filter: drop-shadow(0px 1px 2px rgba(0, 0, 0, 0.3));\n",
              "    fill: #FFFFFF;\n",
              "  }\n",
              "</style>\n",
              "\n",
              "    <script>\n",
              "      async function quickchart(key) {\n",
              "        const containerElement = document.querySelector('#' + key);\n",
              "        const charts = await google.colab.kernel.invokeFunction(\n",
              "            'suggestCharts', [key], {});\n",
              "      }\n",
              "    </script>\n",
              "\n",
              "      <script>\n",
              "\n",
              "function displayQuickchartButton(domScope) {\n",
              "  let quickchartButtonEl =\n",
              "    domScope.querySelector('#df-4fc540be-7827-4fac-97e2-99fbdf45b7bc button.colab-df-quickchart');\n",
              "  quickchartButtonEl.style.display =\n",
              "    google.colab.kernel.accessAllowed ? 'block' : 'none';\n",
              "}\n",
              "\n",
              "        displayQuickchartButton(document);\n",
              "      </script>\n",
              "      <style>\n",
              "    .colab-df-container {\n",
              "      display:flex;\n",
              "      flex-wrap:wrap;\n",
              "      gap: 12px;\n",
              "    }\n",
              "\n",
              "    .colab-df-convert {\n",
              "      background-color: #E8F0FE;\n",
              "      border: none;\n",
              "      border-radius: 50%;\n",
              "      cursor: pointer;\n",
              "      display: none;\n",
              "      fill: #1967D2;\n",
              "      height: 32px;\n",
              "      padding: 0 0 0 0;\n",
              "      width: 32px;\n",
              "    }\n",
              "\n",
              "    .colab-df-convert:hover {\n",
              "      background-color: #E2EBFA;\n",
              "      box-shadow: 0px 1px 2px rgba(60, 64, 67, 0.3), 0px 1px 3px 1px rgba(60, 64, 67, 0.15);\n",
              "      fill: #174EA6;\n",
              "    }\n",
              "\n",
              "    [theme=dark] .colab-df-convert {\n",
              "      background-color: #3B4455;\n",
              "      fill: #D2E3FC;\n",
              "    }\n",
              "\n",
              "    [theme=dark] .colab-df-convert:hover {\n",
              "      background-color: #434B5C;\n",
              "      box-shadow: 0px 1px 3px 1px rgba(0, 0, 0, 0.15);\n",
              "      filter: drop-shadow(0px 1px 2px rgba(0, 0, 0, 0.3));\n",
              "      fill: #FFFFFF;\n",
              "    }\n",
              "  </style>\n",
              "\n",
              "      <script>\n",
              "        const buttonEl =\n",
              "          document.querySelector('#df-82954d4a-d7b7-41a1-98e5-b1928c8c4466 button.colab-df-convert');\n",
              "        buttonEl.style.display =\n",
              "          google.colab.kernel.accessAllowed ? 'block' : 'none';\n",
              "\n",
              "        async function convertToInteractive(key) {\n",
              "          const element = document.querySelector('#df-82954d4a-d7b7-41a1-98e5-b1928c8c4466');\n",
              "          const dataTable =\n",
              "            await google.colab.kernel.invokeFunction('convertToInteractive',\n",
              "                                                     [key], {});\n",
              "          if (!dataTable) return;\n",
              "\n",
              "          const docLinkHtml = 'Like what you see? Visit the ' +\n",
              "            '<a target=\"_blank\" href=https://colab.research.google.com/notebooks/data_table.ipynb>data table notebook</a>'\n",
              "            + ' to learn more about interactive tables.';\n",
              "          element.innerHTML = '';\n",
              "          dataTable['output_type'] = 'display_data';\n",
              "          await google.colab.output.renderOutput(dataTable, element);\n",
              "          const docLink = document.createElement('div');\n",
              "          docLink.innerHTML = docLinkHtml;\n",
              "          element.appendChild(docLink);\n",
              "        }\n",
              "      </script>\n",
              "    </div>\n",
              "  </div>\n"
            ]
          },
          "metadata": {},
          "execution_count": 4
        }
      ]
    },
    {
      "cell_type": "code",
      "source": [
        "t=[]\n",
        "for i in range(0,data[data.columns[0]].count()):\n",
        "  file1=open(f\"f{i}.txt\",'w')\n",
        "  for word in data['Genres'][i]:\n",
        "    file1.write(word)\n",
        "    file1.write(\" \")\n",
        "  file1.close()\n",
        "  t.append(f\"f{i}.txt\")"
      ],
      "metadata": {
        "id": "O6_DA-dF2vxG"
      },
      "execution_count": null,
      "outputs": []
    },
    {
      "cell_type": "code",
      "source": [
        "  from sklearn.feature_extraction.text import CountVectorizer\n",
        "  vectorizer = CountVectorizer(input='filename',vocabulary=genres,lowercase=False)\n",
        "  x = vectorizer.fit_transform(t)\n",
        "  x=pd.DataFrame(x.toarray(),columns = vectorizer.vocabulary_.keys())"
      ],
      "metadata": {
        "id": "Hdn5GKvFUzXY"
      },
      "execution_count": null,
      "outputs": []
    },
    {
      "cell_type": "code",
      "source": [
        "x"
      ],
      "metadata": {
        "id": "c7hQeBIQU60E",
        "colab": {
          "base_uri": "https://localhost:8080/",
          "height": 488
        },
        "outputId": "39778681-dfee-42d6-e068-795dd06a86e3"
      },
      "execution_count": null,
      "outputs": [
        {
          "output_type": "execute_result",
          "data": {
            "text/plain": [
              "      Classics  Fiction  Historical  School  Literature  Young  Adult  \\\n",
              "0            1        2           2       1           1      1      1   \n",
              "1            1        1           0       0           0      1      1   \n",
              "2            1        2           2       0           1      0      0   \n",
              "3            1        0           1       0           0      0      0   \n",
              "4            1        1           0       1           1      0      0   \n",
              "...        ...      ...         ...     ...         ...    ...    ...   \n",
              "9995         0        1           0       0           0      0      0   \n",
              "9996         0        0           0       0           0      0      0   \n",
              "9997         0        1           0       0           0      0      0   \n",
              "9998         0        0           0       0           0      0      1   \n",
              "9999         0        0           0       0           0      0      0   \n",
              "\n",
              "      Fantasy  Magic  Childrens  ...  Shojo  Romanian  Edwardian  Journal  \\\n",
              "0           0      0          0  ...      0         0          0        0   \n",
              "1           1      1          1  ...      0         0          0        0   \n",
              "2           0      0          0  ...      0         0          0        0   \n",
              "3           0      0          0  ...      0         0          0        0   \n",
              "4           1      0          0  ...      0         0          0        0   \n",
              "...       ...    ...        ...  ...    ...       ...        ...      ...   \n",
              "9995        1      0          0  ...      0         0          0        0   \n",
              "9996        0      0          0  ...      0         0          0        0   \n",
              "9997        0      0          0  ...      0         0          0        0   \n",
              "9998        0      0          0  ...      0         0          0        0   \n",
              "9999        0      0          0  ...      0         0          0        0   \n",
              "\n",
              "      Mauritius  Fighters  Universe  Comix  Wicca  Witchcraft  \n",
              "0             0         0         0      0      0           0  \n",
              "1             0         0         0      0      0           0  \n",
              "2             0         0         0      0      0           0  \n",
              "3             0         0         0      0      0           0  \n",
              "4             0         0         0      0      0           0  \n",
              "...         ...       ...       ...    ...    ...         ...  \n",
              "9995          0         0         0      0      0           0  \n",
              "9996          0         0         0      0      0           0  \n",
              "9997          0         0         0      0      0           0  \n",
              "9998          0         0         0      0      0           0  \n",
              "9999          0         0         0      0      0           0  \n",
              "\n",
              "[10000 rows x 588 columns]"
            ],
            "text/html": [
              "\n",
              "\n",
              "  <div id=\"df-e982bb38-c0f2-4a18-acd1-49ab2e15846e\">\n",
              "    <div class=\"colab-df-container\">\n",
              "      <div>\n",
              "<style scoped>\n",
              "    .dataframe tbody tr th:only-of-type {\n",
              "        vertical-align: middle;\n",
              "    }\n",
              "\n",
              "    .dataframe tbody tr th {\n",
              "        vertical-align: top;\n",
              "    }\n",
              "\n",
              "    .dataframe thead th {\n",
              "        text-align: right;\n",
              "    }\n",
              "</style>\n",
              "<table border=\"1\" class=\"dataframe\">\n",
              "  <thead>\n",
              "    <tr style=\"text-align: right;\">\n",
              "      <th></th>\n",
              "      <th>Classics</th>\n",
              "      <th>Fiction</th>\n",
              "      <th>Historical</th>\n",
              "      <th>School</th>\n",
              "      <th>Literature</th>\n",
              "      <th>Young</th>\n",
              "      <th>Adult</th>\n",
              "      <th>Fantasy</th>\n",
              "      <th>Magic</th>\n",
              "      <th>Childrens</th>\n",
              "      <th>...</th>\n",
              "      <th>Shojo</th>\n",
              "      <th>Romanian</th>\n",
              "      <th>Edwardian</th>\n",
              "      <th>Journal</th>\n",
              "      <th>Mauritius</th>\n",
              "      <th>Fighters</th>\n",
              "      <th>Universe</th>\n",
              "      <th>Comix</th>\n",
              "      <th>Wicca</th>\n",
              "      <th>Witchcraft</th>\n",
              "    </tr>\n",
              "  </thead>\n",
              "  <tbody>\n",
              "    <tr>\n",
              "      <th>0</th>\n",
              "      <td>1</td>\n",
              "      <td>2</td>\n",
              "      <td>2</td>\n",
              "      <td>1</td>\n",
              "      <td>1</td>\n",
              "      <td>1</td>\n",
              "      <td>1</td>\n",
              "      <td>0</td>\n",
              "      <td>0</td>\n",
              "      <td>0</td>\n",
              "      <td>...</td>\n",
              "      <td>0</td>\n",
              "      <td>0</td>\n",
              "      <td>0</td>\n",
              "      <td>0</td>\n",
              "      <td>0</td>\n",
              "      <td>0</td>\n",
              "      <td>0</td>\n",
              "      <td>0</td>\n",
              "      <td>0</td>\n",
              "      <td>0</td>\n",
              "    </tr>\n",
              "    <tr>\n",
              "      <th>1</th>\n",
              "      <td>1</td>\n",
              "      <td>1</td>\n",
              "      <td>0</td>\n",
              "      <td>0</td>\n",
              "      <td>0</td>\n",
              "      <td>1</td>\n",
              "      <td>1</td>\n",
              "      <td>1</td>\n",
              "      <td>1</td>\n",
              "      <td>1</td>\n",
              "      <td>...</td>\n",
              "      <td>0</td>\n",
              "      <td>0</td>\n",
              "      <td>0</td>\n",
              "      <td>0</td>\n",
              "      <td>0</td>\n",
              "      <td>0</td>\n",
              "      <td>0</td>\n",
              "      <td>0</td>\n",
              "      <td>0</td>\n",
              "      <td>0</td>\n",
              "    </tr>\n",
              "    <tr>\n",
              "      <th>2</th>\n",
              "      <td>1</td>\n",
              "      <td>2</td>\n",
              "      <td>2</td>\n",
              "      <td>0</td>\n",
              "      <td>1</td>\n",
              "      <td>0</td>\n",
              "      <td>0</td>\n",
              "      <td>0</td>\n",
              "      <td>0</td>\n",
              "      <td>0</td>\n",
              "      <td>...</td>\n",
              "      <td>0</td>\n",
              "      <td>0</td>\n",
              "      <td>0</td>\n",
              "      <td>0</td>\n",
              "      <td>0</td>\n",
              "      <td>0</td>\n",
              "      <td>0</td>\n",
              "      <td>0</td>\n",
              "      <td>0</td>\n",
              "      <td>0</td>\n",
              "    </tr>\n",
              "    <tr>\n",
              "      <th>3</th>\n",
              "      <td>1</td>\n",
              "      <td>0</td>\n",
              "      <td>1</td>\n",
              "      <td>0</td>\n",
              "      <td>0</td>\n",
              "      <td>0</td>\n",
              "      <td>0</td>\n",
              "      <td>0</td>\n",
              "      <td>0</td>\n",
              "      <td>0</td>\n",
              "      <td>...</td>\n",
              "      <td>0</td>\n",
              "      <td>0</td>\n",
              "      <td>0</td>\n",
              "      <td>0</td>\n",
              "      <td>0</td>\n",
              "      <td>0</td>\n",
              "      <td>0</td>\n",
              "      <td>0</td>\n",
              "      <td>0</td>\n",
              "      <td>0</td>\n",
              "    </tr>\n",
              "    <tr>\n",
              "      <th>4</th>\n",
              "      <td>1</td>\n",
              "      <td>1</td>\n",
              "      <td>0</td>\n",
              "      <td>1</td>\n",
              "      <td>1</td>\n",
              "      <td>0</td>\n",
              "      <td>0</td>\n",
              "      <td>1</td>\n",
              "      <td>0</td>\n",
              "      <td>0</td>\n",
              "      <td>...</td>\n",
              "      <td>0</td>\n",
              "      <td>0</td>\n",
              "      <td>0</td>\n",
              "      <td>0</td>\n",
              "      <td>0</td>\n",
              "      <td>0</td>\n",
              "      <td>0</td>\n",
              "      <td>0</td>\n",
              "      <td>0</td>\n",
              "      <td>0</td>\n",
              "    </tr>\n",
              "    <tr>\n",
              "      <th>...</th>\n",
              "      <td>...</td>\n",
              "      <td>...</td>\n",
              "      <td>...</td>\n",
              "      <td>...</td>\n",
              "      <td>...</td>\n",
              "      <td>...</td>\n",
              "      <td>...</td>\n",
              "      <td>...</td>\n",
              "      <td>...</td>\n",
              "      <td>...</td>\n",
              "      <td>...</td>\n",
              "      <td>...</td>\n",
              "      <td>...</td>\n",
              "      <td>...</td>\n",
              "      <td>...</td>\n",
              "      <td>...</td>\n",
              "      <td>...</td>\n",
              "      <td>...</td>\n",
              "      <td>...</td>\n",
              "      <td>...</td>\n",
              "      <td>...</td>\n",
              "    </tr>\n",
              "    <tr>\n",
              "      <th>9995</th>\n",
              "      <td>0</td>\n",
              "      <td>1</td>\n",
              "      <td>0</td>\n",
              "      <td>0</td>\n",
              "      <td>0</td>\n",
              "      <td>0</td>\n",
              "      <td>0</td>\n",
              "      <td>1</td>\n",
              "      <td>0</td>\n",
              "      <td>0</td>\n",
              "      <td>...</td>\n",
              "      <td>0</td>\n",
              "      <td>0</td>\n",
              "      <td>0</td>\n",
              "      <td>0</td>\n",
              "      <td>0</td>\n",
              "      <td>0</td>\n",
              "      <td>0</td>\n",
              "      <td>0</td>\n",
              "      <td>0</td>\n",
              "      <td>0</td>\n",
              "    </tr>\n",
              "    <tr>\n",
              "      <th>9996</th>\n",
              "      <td>0</td>\n",
              "      <td>0</td>\n",
              "      <td>0</td>\n",
              "      <td>0</td>\n",
              "      <td>0</td>\n",
              "      <td>0</td>\n",
              "      <td>0</td>\n",
              "      <td>0</td>\n",
              "      <td>0</td>\n",
              "      <td>0</td>\n",
              "      <td>...</td>\n",
              "      <td>0</td>\n",
              "      <td>0</td>\n",
              "      <td>0</td>\n",
              "      <td>0</td>\n",
              "      <td>0</td>\n",
              "      <td>0</td>\n",
              "      <td>0</td>\n",
              "      <td>0</td>\n",
              "      <td>0</td>\n",
              "      <td>0</td>\n",
              "    </tr>\n",
              "    <tr>\n",
              "      <th>9997</th>\n",
              "      <td>0</td>\n",
              "      <td>1</td>\n",
              "      <td>0</td>\n",
              "      <td>0</td>\n",
              "      <td>0</td>\n",
              "      <td>0</td>\n",
              "      <td>0</td>\n",
              "      <td>0</td>\n",
              "      <td>0</td>\n",
              "      <td>0</td>\n",
              "      <td>...</td>\n",
              "      <td>0</td>\n",
              "      <td>0</td>\n",
              "      <td>0</td>\n",
              "      <td>0</td>\n",
              "      <td>0</td>\n",
              "      <td>0</td>\n",
              "      <td>0</td>\n",
              "      <td>0</td>\n",
              "      <td>0</td>\n",
              "      <td>0</td>\n",
              "    </tr>\n",
              "    <tr>\n",
              "      <th>9998</th>\n",
              "      <td>0</td>\n",
              "      <td>0</td>\n",
              "      <td>0</td>\n",
              "      <td>0</td>\n",
              "      <td>0</td>\n",
              "      <td>0</td>\n",
              "      <td>1</td>\n",
              "      <td>0</td>\n",
              "      <td>0</td>\n",
              "      <td>0</td>\n",
              "      <td>...</td>\n",
              "      <td>0</td>\n",
              "      <td>0</td>\n",
              "      <td>0</td>\n",
              "      <td>0</td>\n",
              "      <td>0</td>\n",
              "      <td>0</td>\n",
              "      <td>0</td>\n",
              "      <td>0</td>\n",
              "      <td>0</td>\n",
              "      <td>0</td>\n",
              "    </tr>\n",
              "    <tr>\n",
              "      <th>9999</th>\n",
              "      <td>0</td>\n",
              "      <td>0</td>\n",
              "      <td>0</td>\n",
              "      <td>0</td>\n",
              "      <td>0</td>\n",
              "      <td>0</td>\n",
              "      <td>0</td>\n",
              "      <td>0</td>\n",
              "      <td>0</td>\n",
              "      <td>0</td>\n",
              "      <td>...</td>\n",
              "      <td>0</td>\n",
              "      <td>0</td>\n",
              "      <td>0</td>\n",
              "      <td>0</td>\n",
              "      <td>0</td>\n",
              "      <td>0</td>\n",
              "      <td>0</td>\n",
              "      <td>0</td>\n",
              "      <td>0</td>\n",
              "      <td>0</td>\n",
              "    </tr>\n",
              "  </tbody>\n",
              "</table>\n",
              "<p>10000 rows × 588 columns</p>\n",
              "</div>\n",
              "      <button class=\"colab-df-convert\" onclick=\"convertToInteractive('df-e982bb38-c0f2-4a18-acd1-49ab2e15846e')\"\n",
              "              title=\"Convert this dataframe to an interactive table.\"\n",
              "              style=\"display:none;\">\n",
              "\n",
              "  <svg xmlns=\"http://www.w3.org/2000/svg\" height=\"24px\"viewBox=\"0 0 24 24\"\n",
              "       width=\"24px\">\n",
              "    <path d=\"M0 0h24v24H0V0z\" fill=\"none\"/>\n",
              "    <path d=\"M18.56 5.44l.94 2.06.94-2.06 2.06-.94-2.06-.94-.94-2.06-.94 2.06-2.06.94zm-11 1L8.5 8.5l.94-2.06 2.06-.94-2.06-.94L8.5 2.5l-.94 2.06-2.06.94zm10 10l.94 2.06.94-2.06 2.06-.94-2.06-.94-.94-2.06-.94 2.06-2.06.94z\"/><path d=\"M17.41 7.96l-1.37-1.37c-.4-.4-.92-.59-1.43-.59-.52 0-1.04.2-1.43.59L10.3 9.45l-7.72 7.72c-.78.78-.78 2.05 0 2.83L4 21.41c.39.39.9.59 1.41.59.51 0 1.02-.2 1.41-.59l7.78-7.78 2.81-2.81c.8-.78.8-2.07 0-2.86zM5.41 20L4 18.59l7.72-7.72 1.47 1.35L5.41 20z\"/>\n",
              "  </svg>\n",
              "      </button>\n",
              "\n",
              "\n",
              "\n",
              "    <div id=\"df-b6d75ed3-b944-4ce4-921f-3cb99d752068\">\n",
              "      <button class=\"colab-df-quickchart\" onclick=\"quickchart('df-b6d75ed3-b944-4ce4-921f-3cb99d752068')\"\n",
              "              title=\"Suggest charts.\"\n",
              "              style=\"display:none;\">\n",
              "\n",
              "<svg xmlns=\"http://www.w3.org/2000/svg\" height=\"24px\"viewBox=\"0 0 24 24\"\n",
              "     width=\"24px\">\n",
              "    <g>\n",
              "        <path d=\"M19 3H5c-1.1 0-2 .9-2 2v14c0 1.1.9 2 2 2h14c1.1 0 2-.9 2-2V5c0-1.1-.9-2-2-2zM9 17H7v-7h2v7zm4 0h-2V7h2v10zm4 0h-2v-4h2v4z\"/>\n",
              "    </g>\n",
              "</svg>\n",
              "      </button>\n",
              "    </div>\n",
              "\n",
              "<style>\n",
              "  .colab-df-quickchart {\n",
              "    background-color: #E8F0FE;\n",
              "    border: none;\n",
              "    border-radius: 50%;\n",
              "    cursor: pointer;\n",
              "    display: none;\n",
              "    fill: #1967D2;\n",
              "    height: 32px;\n",
              "    padding: 0 0 0 0;\n",
              "    width: 32px;\n",
              "  }\n",
              "\n",
              "  .colab-df-quickchart:hover {\n",
              "    background-color: #E2EBFA;\n",
              "    box-shadow: 0px 1px 2px rgba(60, 64, 67, 0.3), 0px 1px 3px 1px rgba(60, 64, 67, 0.15);\n",
              "    fill: #174EA6;\n",
              "  }\n",
              "\n",
              "  [theme=dark] .colab-df-quickchart {\n",
              "    background-color: #3B4455;\n",
              "    fill: #D2E3FC;\n",
              "  }\n",
              "\n",
              "  [theme=dark] .colab-df-quickchart:hover {\n",
              "    background-color: #434B5C;\n",
              "    box-shadow: 0px 1px 3px 1px rgba(0, 0, 0, 0.15);\n",
              "    filter: drop-shadow(0px 1px 2px rgba(0, 0, 0, 0.3));\n",
              "    fill: #FFFFFF;\n",
              "  }\n",
              "</style>\n",
              "\n",
              "    <script>\n",
              "      async function quickchart(key) {\n",
              "        const containerElement = document.querySelector('#' + key);\n",
              "        const charts = await google.colab.kernel.invokeFunction(\n",
              "            'suggestCharts', [key], {});\n",
              "      }\n",
              "    </script>\n",
              "\n",
              "      <script>\n",
              "\n",
              "function displayQuickchartButton(domScope) {\n",
              "  let quickchartButtonEl =\n",
              "    domScope.querySelector('#df-b6d75ed3-b944-4ce4-921f-3cb99d752068 button.colab-df-quickchart');\n",
              "  quickchartButtonEl.style.display =\n",
              "    google.colab.kernel.accessAllowed ? 'block' : 'none';\n",
              "}\n",
              "\n",
              "        displayQuickchartButton(document);\n",
              "      </script>\n",
              "      <style>\n",
              "    .colab-df-container {\n",
              "      display:flex;\n",
              "      flex-wrap:wrap;\n",
              "      gap: 12px;\n",
              "    }\n",
              "\n",
              "    .colab-df-convert {\n",
              "      background-color: #E8F0FE;\n",
              "      border: none;\n",
              "      border-radius: 50%;\n",
              "      cursor: pointer;\n",
              "      display: none;\n",
              "      fill: #1967D2;\n",
              "      height: 32px;\n",
              "      padding: 0 0 0 0;\n",
              "      width: 32px;\n",
              "    }\n",
              "\n",
              "    .colab-df-convert:hover {\n",
              "      background-color: #E2EBFA;\n",
              "      box-shadow: 0px 1px 2px rgba(60, 64, 67, 0.3), 0px 1px 3px 1px rgba(60, 64, 67, 0.15);\n",
              "      fill: #174EA6;\n",
              "    }\n",
              "\n",
              "    [theme=dark] .colab-df-convert {\n",
              "      background-color: #3B4455;\n",
              "      fill: #D2E3FC;\n",
              "    }\n",
              "\n",
              "    [theme=dark] .colab-df-convert:hover {\n",
              "      background-color: #434B5C;\n",
              "      box-shadow: 0px 1px 3px 1px rgba(0, 0, 0, 0.15);\n",
              "      filter: drop-shadow(0px 1px 2px rgba(0, 0, 0, 0.3));\n",
              "      fill: #FFFFFF;\n",
              "    }\n",
              "  </style>\n",
              "\n",
              "      <script>\n",
              "        const buttonEl =\n",
              "          document.querySelector('#df-e982bb38-c0f2-4a18-acd1-49ab2e15846e button.colab-df-convert');\n",
              "        buttonEl.style.display =\n",
              "          google.colab.kernel.accessAllowed ? 'block' : 'none';\n",
              "\n",
              "        async function convertToInteractive(key) {\n",
              "          const element = document.querySelector('#df-e982bb38-c0f2-4a18-acd1-49ab2e15846e');\n",
              "          const dataTable =\n",
              "            await google.colab.kernel.invokeFunction('convertToInteractive',\n",
              "                                                     [key], {});\n",
              "          if (!dataTable) return;\n",
              "\n",
              "          const docLinkHtml = 'Like what you see? Visit the ' +\n",
              "            '<a target=\"_blank\" href=https://colab.research.google.com/notebooks/data_table.ipynb>data table notebook</a>'\n",
              "            + ' to learn more about interactive tables.';\n",
              "          element.innerHTML = '';\n",
              "          dataTable['output_type'] = 'display_data';\n",
              "          await google.colab.output.renderOutput(dataTable, element);\n",
              "          const docLink = document.createElement('div');\n",
              "          docLink.innerHTML = docLinkHtml;\n",
              "          element.appendChild(docLink);\n",
              "        }\n",
              "      </script>\n",
              "    </div>\n",
              "  </div>\n"
            ]
          },
          "metadata": {},
          "execution_count": 7
        }
      ]
    },
    {
      "cell_type": "code",
      "source": [
        "from sklearn.cluster import KMeans\n",
        "import matplotlib.pyplot as plt"
      ],
      "metadata": {
        "id": "63qfqlH1yOVB"
      },
      "execution_count": null,
      "outputs": []
    },
    {
      "cell_type": "code",
      "source": [
        "km=KMeans(n_clusters=2000)\n",
        "km.fit(x)\n",
        "lab=km.labels_\n",
        "print(lab)"
      ],
      "metadata": {
        "colab": {
          "base_uri": "https://localhost:8080/"
        },
        "id": "oDIN5_MZf9A-",
        "outputId": "ec1a4faa-968c-4d36-c7df-3c471435f5dc"
      },
      "execution_count": null,
      "outputs": [
        {
          "output_type": "stream",
          "name": "stderr",
          "text": [
            "/usr/local/lib/python3.10/dist-packages/sklearn/cluster/_kmeans.py:870: FutureWarning: The default value of `n_init` will change from 10 to 'auto' in 1.4. Set the value of `n_init` explicitly to suppress the warning\n",
            "  warnings.warn(\n"
          ]
        },
        {
          "output_type": "stream",
          "name": "stdout",
          "text": [
            "[ 421  128 1247 ...  848   27    3]\n"
          ]
        }
      ]
    },
    {
      "cell_type": "code",
      "source": [
        "kmi=input(\"Enter genres\")\n",
        "file1=open(\"fnew.txt\",'w')\n",
        "file1.write(kmi)\n",
        "file1.close()\n",
        "y=vectorizer.fit_transform([\"fnew.txt\"])\n",
        "y1=km.predict(y)"
      ],
      "metadata": {
        "colab": {
          "base_uri": "https://localhost:8080/"
        },
        "id": "sdstqppfd4tM",
        "outputId": "698d8b54-1282-404f-9e04-c20676a0313d"
      },
      "execution_count": null,
      "outputs": [
        {
          "name": "stdout",
          "output_type": "stream",
          "text": [
            "Enter genresClassics\n"
          ]
        },
        {
          "output_type": "stream",
          "name": "stderr",
          "text": [
            "/usr/local/lib/python3.10/dist-packages/sklearn/base.py:439: UserWarning: X does not have valid feature names, but KMeans was fitted with feature names\n",
            "  warnings.warn(\n"
          ]
        }
      ]
    },
    {
      "cell_type": "code",
      "source": [
        "import numpy as np\n",
        "def getlist(cnum,genres):\n",
        "  return np.array([i for i, x in enumerate(genres) if x == cnum])\n",
        "ret=getlist(y1, km.labels_)\n",
        "out1=[]\n",
        "for i in ret:\n",
        "  out1.append(data['Book'][i])\n",
        "print(out1)"
      ],
      "metadata": {
        "colab": {
          "base_uri": "https://localhost:8080/"
        },
        "id": "gFM_iGX-gJUG",
        "outputId": "9c0c65da-6ca0-4ddd-fcb6-a10a3540051d"
      },
      "execution_count": null,
      "outputs": [
        {
          "output_type": "stream",
          "name": "stdout",
          "text": [
            "['سیمای شکسته پدر سالار', 'Life Song', 'Stones (One True Child #5)', 'The Adventures of Pinocchio', 'Touching the moon', \"The Curse of Cardoness: Maya's Magical Adventures continue\", \"Murder in the Coven: Maya's Magical Adventures continue\", 'They Came From The North', 'Mischief and the Guardian Cats', 'The Top Five Teachings: An Asian Exploration of the Mysteries of Christ', 'The Friendly Mouse', 'Small as a Mustard Seed', 'Song Bird: Matters of the Heart', 'The Beagle and the Hare', 'The Sound of Suffering (The Master of Perception, #2)', 'The Ways of Autumn', 'Awaken Your Alpha: Tales and Tactics to Thrive', 'Big Money: A Global Financial Thriller (Financial Conspiracy Series Book 1)', 'Stavros', 'A Debt Free You', 'Steel Dogs', 'Temptation and Denial', 'Rebirth (The Keeper, #3)', 'The Ascension of Mary', 'Secrets (Secrets, #1)', 'The Taste of Despair (The Master of Perceptions, #3)', 'Shortcuts Get You Lost: A Leadership Fable on the Dangers of the Blind Leading the Blind', 'Just a Typo: The Cancellation of Celebrity Mo Riverlake', 'Un Aquilone di Farfalle: Romanzo', 'Child of Another Kind', \"Otuna's Flute\", 'RUNNING IN CORRIDORS', 'Spoils of the Moon', 'The Mustachioed Woman of Shanghai', 'Beholden (Marlowe Black Mystery, #1)', 'Avaland', \"Females of Valor (The Viking's Kurdish Love, #2)\", 'WIL O WISH', 'What The Red Moon Knows', \"Roots of To-Be Templars (The Viking's Kurdish Love #3)\", 'The Code: The Assiduous Quest of Tobias Hopkins - Part Two', \"Females of Valor (The Viking's Kurdish Love, #2)\", 'Homecoming: The Assiduous Quest of Tobias Hopkins - Part One', 'The Angler and the Owl', 'Ghost Park (Devil Barnett Detective Series, #9)', \"View Points and Points of View: A 'Phoetry Book' from Cornwall\", 'Take a Deep Breath - 21 Top Tips for Relaxed, Rewarding and Healthy Life for Stressed Wage Earners', 'Angles - Part I', 'The Sidepiece Handbook', 'Deadly Pretty Strangers: One dead body, one bereaved mother, one small favour ...', 'Dear Su Yen: A Young Woman From Taiwan Discovers England And Discovers Herself', \"Sex: How to Get More of It: A guy's roadmap to paradise, in and out of the bedroom\", 'The Real Book of the Dead', 'Mallard the Quack', 'The Change (Blue River Chronicles #2)', 'The Assiduous Quest of Tobias Hopkins: Part Three: The Dutchman', 'Wretched:', 'Another Sunny Day', 'The Zima Confession', 'MARS', 'The Oaks (Royal Oaks, #1)', 'Man Struggling With Umbrella', 'Bane of the Innocent', 'Choices 86,400 a day', 'Messages From Heaven', \"Regular People of The Weak: A Rebel's Experience With The Spiritual Chief of Poets\", 'Revealing Visions (Valentine/Petrilo #4)', 'The Good Teacher (Women of the Willow Wood, #1)', 'Legacy of the Unsung', 'Primed For Revenge', 'Glorious Christmas (The Serve, #7)', 'Everything Is Always Gonna Be Alright, Durban Frankenshooze', 'Psycho Sitter', 'Bottle', 'The Zombie Wizards of Ala-ka', 'That, Which Clouds the Soul', 'Communions With Christ', 'The Years Distilled: Verses', 'Imbroglio', \"Nathaniel's 1st Adventure (Cosmic Aviators, #1)\", 'How the War Started (How the War Started, #1)', 'Flash of Silver: ...the Leap That Changed My World', 'Home Made Pirates - A Story from the Seas', 'LOG: The Legends of Genesis: Not Your Ordinary Heroes', 'The White Forest (The Legend of Prince Ayron #1)', 'The Ancient Breath', 'Syria Girl', 'Curious Matrix: Questions I always wanted to ask', 'Joey Wheeler: The Official Character & Monster Guide', 'Damaged Goods: Things You Must Know About Healing From Abuse', 'Broken: The Failed Promise of Muslim Inclusion', 'Little Guide to Unhip', 'Reflection of Secrets (Valentine/Petrilo #2)', 'Shattered Visions Haunted Memories (Valentine/Petrilo #3)', \"HIDDEN MICKEY 3: Wolf! The Legend of Tom Sawyer's Island (Hidden Mickey, #3)\", 'The Unity Tree: A Whimsical Muse on Cosmic Consciousness', 'One Day You Will (An Attorney J.B. Graybourne Novel, #2)', 'Magical Elements of The Periodic Table Presented Alphabetically By The Metal Horn Unicorns', 'The Secret Queen (The Empyrical Tales, #3)', 'Gray Hawk of Terrapin', 'The Great Action: Comic Book for Yuppies', 'PARADOX: Super Indy', 'The Techno Witch (Super Indy, #1)', 'Seeing Karma (Valentine/Petrilo #5)', 'Super Indy: The Great Action', 'Orchard of Skeletons', 'HIDDEN MICKEY ADVENTURES 1: Peter and the Wolf (Hidden Mickey Adventures, #1)', 'The Fairway (Super Indy, #2)', 'Death After Life: Week One Day One', \"Ezekiel's Eyes\", 'HIDDEN MICKEY ADVENTURES 2: Peter and the Missing Mansion (Hidden Mickey Adventures, #2)', 'From Brexit to Brazil', 'Dom Wars: Round 4, 5, 6 (Dom Wars, #4-6)', \"Sensual Desires (Amatore's Restaurant #2)\", \"Clandestine Liaisons (Amatore's Restaurant #3)\", 'THE YOGA WITH NO PANTS: Super Indy-The Last Half', 'First Half: Super Indy', 'FIRST HALF: Super Indy', 'The Great Action (Super Indy, #4)', 'A Victim of the Times', 'Betrayal High (Zachary Blake Legal Thriller, #5)', 'Mourning Grey: Part One: The Guardians Of The Temple Saga', 'Book of Leo: Prequel to Mystical Trash', 'A Unique Kind of Love: A Different Perspective [Excerpt]', 'Adversity Builds Character; An Inspirational True Life Story of Disability, Addiction and Acceptance', 'U-10', 'Nobody Asked Me, But ....', 'Swarm', 'Awakening (The Shard Chronicles, #1)', \"The Wedding (Being the Bad Boy's Victim, #1.5)\", 'TWAS The Year 2020', 'Magenta', 'Fe Fi FOE Comes', 'My Death Experiences - A Preacher’s 18 Apocalyptic Encounter with Death, Heaven & Hell.', 'Bound Anthology', 'The Journal', 'THE COALFIELD EXPRESS', 'Mars Base 1: A new discovery!', 'Her Beauty', 'Di undici foglie', 'Spintecătorul Sorții (Cartea Oamenilor, #1)', 'First Light (Globiuz #1)', 'Carbon Under Pressure', 'Inside Out', 'AfterTastes and Tales from Russia', 'Child of the Erinyes Collection: The Bronze Age (The Child of the Erinyes #1-3)', 'Second Chances', 'All My Love, Jesus: Personal Reminders From the Heart of God', 'جاسوس من أجل لا أحد   . ستة عشر عاماً في المخابرات السورية', 'Callasandra: Fractured', 'The Bench', 'Spy... for Nobody!: Sixteen Years in the Syrian Intelligence', \"The Devil's Bane\", 'Deep and Dirty: A Novel', 'This Land of Streams: Spiritual, Friendship, Romantic and World Event Poems', 'Day 362', 'Judges: When The Light Lay Still', 'Gift of the Fox', 'Sanctuary (The Keeper, #4)', 'SAV RAKARA', \"Crossing's Redemption (Crossing #4)\", 'Roses And Chocolates: A True Love Story in World War II', 'Strike of Lightning', 'Discovery of a Hidden Castle (A Gypsy Curse #1)', 'The Afternoon When She Died', 'The Red Hand', 'Get Rich in Real Estate: Your Step-by-Step Guide to Acquiring Properties in NYC', 'Zodiac Circle', 'Die Macht Des Marketing: Tipps Um Mit Ihrem Online Business H�here Profite Einzufahren', 'Heresy: A guide to Challenge Your Beliefs!™ and create happiness in your life', 'Ending the Curse (A Gypsy Curse #2)', 'Night That Jimi Died', 'The Grim Reaper', 'Dyed Souls', 'Galaxy Pirates', 'Earth-chan and Friends', 'The Deal: A Prequel of Marriage by Law', 'Dom Wars: Round Six (Dom Wars, #6)', 'Dom Wars: Round Five (Dom Wars, #5)', 'New England Witch Chronicles Boxed Set (New England Witch Chronicles #1-4)', 'The Well House II: The Revenge', 'Opulence Among Us', 'Evolution: Vol.1 A Short Story Collection', 'Yoga Time', 'Evolution: Vol. 2', 'The Village Narcissist', 'Crossbones (Cross your Heart and Die, #3)', 'Marry Christmas', 'Orion Surfacing', 'Iola O', \"I'd Rather Be Riding My Bike\", 'Silent Pantheon', 'Secrets: in a corrupted society', 'Inside His Head: The Assistant Mini Book', 'The Long Weekend', \"Articles on Enid Blyton Series, Including: The Famous Five (Series), the Secret Seven, Malory Towers, the Faraway Tree, St. Clare's (Series), the Five Find-Outers, the Adventure Series, the Wishing Chair (Series), the Circus Series\", 'One Hundred Eighty Two Days in Afghanistan', 'Scientific Wonders on Earth & in Space', 'And Then it Rained: Lessons for Life', 'Your Chance to Hear the Last Panther Speak', 'Moe Howard Died For Our Sins: made-to-fit tales for the maladjusted', 'Saint Paul Trois Chateaux: 1948', 'Dutch', 'Will Work For Peace: New Political Poems', 'Mana', 'Cutter', 'Portrait of a Protégé (Portraits, #2)', 'The Secrets of Albion Falls (The Secrets Series, Volume 1)', 'Aether Warriors (The Hidden War Series #1)', 'Danyrogof Deep', 'It Comes Natural - Understanding Natural and Integrative Medicine', 'Running with God: A discipleship guide to grow in faith and experience the power and love of God', 'Why the World Sucks and What We Can Do About It', 'Planet Graxpiex', 'Bite Marks', 'The Longest Distance', 'Eclavarda Rising', \"Hunters of Satan's Monsters (Legend of the Rolling Calf, #1)\", 'The Seventh Simian', 'Dyslexic and Un-Stoppable: How Dyslexia Helps Us Create the Life of Our Dreams and How You Can Do It Too', 'Rei Wan The Outsider', 'Pray Hard & Speak Life: Finding Hope in the Midst of: Addictions Bankruptcy Suicide Cancer', 'Fighting The Storm', 'The Forbidden Line', 'Quantos Rising', 'Monique', \"Murphy's Path\", \"Secret of the Cassin's Family Curse (Castle of Mysteries, #1)\", 'Flash', \"Lady Thatcher's Wink\", 'Recreant', 'Should I Hate or Love', 'Under The Rug: The Unforgettable Forgotten', 'HOW TO BE A SUCCESSFUL SLAVE: Using LAME Methodology', 'Zombie Park', 'A Butler Christmas', \"The Shaman's Apprentice (Jovai, #1)\", 'Are Men the Weaker Sex?', 'Humanism: The Whore of Babylon and the Sleeping Church', 'Rivers Never Fill The Sea', 'Learn Spanish with stories and audios as workbook. Spanish language course for beginners and advanced learners.: Spanish made simple. (SPRAUCH 1)', 'Easy Money Management: A Give and Save 3-6-5 Approach to Personal Finance', 'The Association', 'Not Just Yet. Egypt 2011: News - Incidents - Causes', 'Going Off Grid', 'The God Particle Conspiracy', 'To Love An Invisible God', 'Magic Melody: Power of Kindness', 'Untitled Document: The Mystery Unfolds', \"Will & Mysteria: Two Inseparable Yogi's\", 'LOVE OVER CAPPUCCINO', 'The Thresher', 'Living The Dream: My Life With Horses', 'Geeks Beyond Time', '5 Minute Fitness Strength Training for Senior Women at 50+ : Simple Home Exercises to Maintain Your Healthier Body, Increase Energy Level, and Improve Strength in 2 Weeks', 'Optimal Happiness: The Fastest & Surest Way to Reach Your Happiest Potential', 'Raised by Wolves: Trapped by Demons', 'The Target Is H (Penetrator #1)', 'Oneless Oneness: Tao as an Existential Remedy', 'The Heart of Touqar - THT -  Epic - Vol 1', 'Ignis: Once My Fire Is Out, What I Forged Remains', 'Delta Project: Rescue (Book 2)', \"LOVE ISN'T FOR COWARDS: Just Let Love Be\", 'Win The Fight: The Fight Fore My Life', 'Divided By Seven Billion', 'Addicted To Greed', 'Last Call', 'Double Trouble', 'Midwifing Death: Returning to the Arms of the Ancient Mother', 'Scarlet Crosses: The Truth Lies Within', 'Ripperville', 'Chinese Astrology for Health and Wellbeing', 'Inherit The Whirlwind: The Final Showdown Between Science And Religion', 'The Brazilian', 'Briskwood Blood Rain', 'Horn-Horn, Cracked (The Horn-Horn Series Book 2)', '5 Stars', 'Anshuman krit Saral Vastu Gyan', 'The Outcasts - A Thousand Dreams of Redemption', \"Alexander's Infinity\", 'Death of an Ordinary Life', 'Dare to Dream', 'Wooded Windows', 'Interviews With the Dead, Part 1', 'Candle Girl', 'Warrior King Legacy', 'Walking through the Wall', 'The Pacific Depths', 'Fiction', \"In My Brother's Shadow\", \"Aj's Ireland: A Christmas Comedy\", 'A Dark Design  (Les Fées: The French Fae Legend 0.25)', 'What Does it Mean to be White in America?: Breaking the White Code of Silence, A Collection of Personal Narratives (2LP EXPLORATIONS IN DIVERSITY)', 'Nuestra Historia de Amor de Fracaso Hasta San Valentin', 'The Dragon and the Princess', 'The Bobby Pins and other Short Stories', 'Chinese Astrology for Wealth and Prosperity', 'Traces of My Love: The Secrets of Heart', 'Elementals: Mystic Warriors', 'Pe urmele șamanului albastru', 'How Can You Smell the Roses if the Tops Have Been Cut Off?', 'The Four Elements of Life', 'The Lost Queen (The Empyrical Tales, #2)', 'Lost in Infinity', 'Mavericks', 'The Bookmaker of Business: A Financial Tale', \"The Night's Night\", 'Musings of a usual mind', 'Forgiveness', 'The Pact (book 1)', 'Shift!', 'Silver Haze', 'Bridgetown High', 'The Unknown She', 'Anti-Matter', 'Caged Lions Never Roar', 'Selfish: Permission to Pause, Live, Love and Laugh Your Way to Joy', 'Spontaneous Combustion: Enlightenment and the Cosmic Crucible', 'Telling Time by the Shadows', \"Success Isn't for Everyone:  How to build a Successful Foundation for your life.\", \"Be Great!: 365 Inspirational Quotes from the World's Most Influential People\", '365 Fun, Uplifting, and Inspirational Quotes from All the Top Movies', 'Trust Trilogy (Trust Trilogy, #1-3; Trust series, #1-8)', \"Soldier and Spice - An Army Wife's Life\", 'Anne Hawksmoor: Time in the Tower', 'Unveiled (The Keeper, #5)', 'A New Forest Witch', 'Introducing Charlotte', 'Pangaea', 'Desolation (Degeneration #2)', \"I'd rather Starve than Cook!\", 'Istorii cu Vlad Țepeș', 'The Illusion of Murder (Illusions and Shadows #1)', 'The Prison of Deviants', 'The Enemy Within', 'Ethereal Revelations - Volume I: Access to Another Dimension', \"Yes, That's What They Call Me, Nobody\", 'The Clash', 'Deferred Consumption (Consumption #1)', 'White Star', 'Christianity Made Simple: A Regular Parent’s Guide to Making Sense of Christianity, Answering the Hard Questions, and Building Lasting Values in the Modern World', 'Corners: Voices on Change', \"L'Ultima Primavera. Il riflesso segreto dei ricordi: Romanzo\", 'Eight of Jacks', 'TOP SCHOOLS: Little Success Secrets', 'Highland Darkness (The Donahue McGregor Saga, #1)', 'Tale of the Lost Daughter', 'Twisted Tax Tales: Bizarre and twisted short stories', 'Oh God! What Have We Done?', \"Nidhug's Story: An Evil Cricket King\", 'The Crazy Life of a Kid from Brooklyn', 'Spintecătorul Sorții (Cartea Zeilor,#2)', 'WOLF WHISPERER SERIES  Vol 1 & 2', 'The Kitchen and the Studio: A Memoir of Food and Art', \"My Boss's Slave\", 'Les Méthodes Marketing Électronique: Comment se maintenir à flot dans un marché en constant changement', 'Story of The Ghost', 'Rush To Destiny', 'How to Make Her LET GO & GIVE IN: The No-Bullshit Guide to Great Sex', 'The Hope Handbook', 'Until Dark (Until forever series Book 1)', 'Unveil The Eagle', \"Secret of the Cassin's Family Curse (Castle of Mysteries, #1)\", 'Brilliance of Dawn', 'Beyond Red Lines', 'No Longer Shy: Conquering Shyness and Social Anxiety', 'Saving Elijah', 'The Icon of the Divine Heart of God the Father: Apologia and Canon', 'Quail Farming: Markets and Marketing Strategies', 'Odes', 'Twice', 'Asleep with One Eye Open', 'أرض الغجر', 'Transparent Faith: Lessons Learned from the Plan of Faith', 'Of Roses and Lily', 'The Future of Man: Extinction or Glory?', 'Booze House', 'The 4 Painful Life Stories: How We Contracted Hiv/Aids', 'Armageddon: Fall of the Vampires', 'Depression: The Ultimate Cure: How To Get Rid Of Depression In 30 Days or Less', 'Raiders of the Dawn (Raiders of the Dawn #1)', 'From Failure to Success: A Treasury of 50 Inspiring Stories', 'The Prophecy', 'Catching Lightning Without the Bottle', 'Lobster Tales, Life Lessons, and Laughter', 'Science of Happiness', 'The Last of Her Kind', 'Shivaratri, How I Saw God', 'Psychology: Simply Explained Psychology Techniques To Influence And Control People Using Mentalism, Hypnosis', 'The Dead Silence', 'Barbarian', 'Five Years - The Meeting', 'Promises and Other Broken Things (Amelia and Declan #1)', 'witchbird', 'Dark Temptations: The Naughty Proposal!', 'Finding Your Colors: Fine Art Adult Coloring Book', 'Black Glitter', 'A Time for Change: How White Supremacy Ideology Harms All Americans', \"Scarred for Life: A Boy's Brutal Suffering and a Man's Raging Regret\", 'The Love Connection', 'The World of Lights (The Beginning, #1)', 'Loyalty and Deceit', 'Votive Mass of the Divine Heart of God the Father: Texts and Lectionary', 'Twerking Cruxes and a Cloaked Visage', 'Fears of Darkness', 'The Wet Woman', 'Conspiracy (The Keeper, #6)', 'The Karma Code', 'The Dark Side of Honor: A Jack Dublin Novel', 'Enochi: 3 of Light', 'Life is Big', 'The Westward Journey of the Nebraskan Wind', 'Bright White Darkness, New York Shift', 'Dream Walker', \"Alone... You're Not\", 'From The Shadows (Blaze #1)', 'Return to the Castle (Castle of Mysteries #2)', 'Daily Prayer: A Modern Guide to Ancient Practices', 'Notes of Oisin: From an Irish Monk to a Skaldic Poet', 'The Road To Forever', 'Acidalia The Beginning of Kallos (Kallos, #.05)', 'The Weapon of My Delusion', 'Upside Down Kingdom', 'Manual of Mineralogy', 'South of Reality', 'Her Innocent Marine', 'The Dawn of Tecton (Alienman, #1)', 'Sweet Mungo', 'Forgotten, Saved, Loved: The Prologue (Nightfall, #1.5)', 'The Adventures of Hop-Hop and the Great Flying Rabbit', \"Exploits of a War Party from Seraph'Ithil (Hershel Saga #1)\", 'Castle of Mysteries Three: The Complete Series', 'Mindy Returns Home: A New Beginning', 'Dangerous Games (DCYE, #4)', 'Dom Wars: Round 1 & 2 (Dom Wars, #1-2)', 'Sixteenth Notes: the breaking of the rose-colored glasses', \"Daniel's Diary\", 'THE YEAR OF THE FROG', 'The Brugan', 'The  Alternate Ending', 'The Constitution of the Tunisian Republic: Unofficial Translation', 'Matthias and the Shadow', 'Devotion to the Divine Heart of God the Father', 'A Lion in Your Number', 'The Scar', \"The Valentine Date: Long Distance, Billionaires and Former Bad Boy's Collection\", 'Goofsville', 'Embers of Atlanta: A short story', 'The Acorn Gathering: Writers Uniting Against Cancer', 'When Everything Good Comes', 'Messed Up... By Choice', 'Peace Fire (Peaceforgers, #1)', 'Grown-up Shmown-up', 'Odyssey from River Bend', 'She Bites', 'The Last Defender: A Novel', 'Spinning Black Hole Inside Our Earth', 'The Fight for Naturah: The Reclamation', 'Loves-Me-Not', 'Know that I am God', 'Bad : Six Sexy Gents Unmasked', 'What Have We Done?', 'Friendlationships: From Like, to Like Like, to Love in Your Twenties', 'Memoirs of Dr Andrew Moonir Khan - A great Educator In Trinidad and Tobago', \"A Dance in the Woods: A Mother's Insight\", 'A Timeless Abandon', 'Driving in LA', 'PRAYERS & POETRY', 'Superstoe', 'Until Morning Comes', 'Jukebox: a stylish London crime novel', 'How to unleash your true potential', 'Celebration! (The Celebration Series)', 'White Knight Dom Academy (White Knight Dom Academy, #1)', 'Song to the Moon (Damnatio Memoriae #2)', 'Μάργκινους Μόριους', 'The Autobiography Of Howard Spring', 'My Reason is Love', 'Winter Tales', 'Stories of Music, Volume 1', 'Meadowbank (The Shael Chronicles, #2)', \"Pack's Posse (Simon Pack, #8)\", 'Gaia and the New Politics of Love: Notes for a Poly Planet', 'Your Love Was All I Had!', 'The Odyssey of a Hippie Marijuana Grower', 'Seer (Chronicles of Marithe, #2)', 'Dom Wars: Round 3 & 4 (Dom Wars, #3-4)', 'The Eyes of Mikra', 'Curse of the Purple Delhi Sapphire (Temple of Indra Series)', 'Chase of Choices', 'Oasis Island', 'Rosebunny Designs - Adventures In Merryland', 'The Book of Houdini', 'Enlightenment', 'The Elemental Master', 'The Au Pair', \"And Come Day's End: A Michael McKaybees Mystery\", 'Lap Dance! For Dystopia', 'Innocent Blood', 'A Guide To To Kill A Mockingbird', 'A Chance For Love', 'Hurtful', \"When Men Wore Muffs: The Story Of Men's Clothes\", \"Return to Circa '96\", 'The Adventures Of Baby Crow: The Search For Baby Pigeon', 'The Stove-Junker', \"Over the Ocean and to the Links: A Golfer's Journey\", 'Kaden', 'Το βιβλίο που γράφεται μόνο του (Το Μαγικό Βιβλίο #1)', '100 Years: A Journey to End a Vicious Cycle', 'Making of an Empress (Realm of Hulsteria #1)', \"Some Things Matter, Some Things Don't: 30 Chats about Life\", \"Liam: Midsummer's Magic Bonus Book\", 'Untouchable God', 'Money Moves That Matter: Simple Steps to Become Debt-Free', 'A Monk and His Girlfriend', 'I, Me, and Whisky', 'A Day To Remember: The Best Thing for Me Sequel', 'Seven Sons of Zion (Scribbler Guardian #2)', 'The Sweetest Death: The Sweetest Kill Bonus Chapter', 'The Puzzle: How to Become the Master of Your Own Life', \"Cory's Way\", 'Rescued Royal: Sex, Drugs, and Jesus - Walking Through Hell and Colliding with Love', 'Deadly Decisions', 'The Strange One', 'Hush Little Children.', 'Sins Sity Stories', '1001 Nights: Illustrated Fairy Tales from One Thousand And One Nights', \"Daybreak: Twilight's Rival\", 'Life Lessons: Everything You Ever Wished You Had Learned in Kindergarten', 'Romance of the Three Kingdoms, Vol. 1 (chapter 1-30)', '100 Common Sense Policies to make BRITAIN GREAT again', 'Hazel House', 'Gunpowder Soup', 'Healing Through Poetry', 'White Boy in Watts', 'Atlas of the Islamic conquests Part I', 'Cabbie with a Dangerous Mind', 'Nicholas: The Fantastic Origin of Santa Claus', 'Novels by Isabel Allende: The House of the Spirits, City of the Beasts, Daughter of Fortune, Kingdom of the Golden Dragon', 'The Giver (Giver Quartet) | Book Summary', 'Winter Break: A Luminous Journey Into Wisdom and Love', 'Heart Of Dixie', 'Disappearance', 'The Mullery Sagas (Books, Birthrights & Beginnings, Volume 1)', 'Houses: a novel', \"Sefer Digambara Pulkhanim Ha'yehudi: Book of Ascetic Nudity Rituals of the Jew\", 'Waves', 'DISHONORED', \"Love You More Than You Know: Mothers' Stories About Sending Their Sons and Daughters to War\", 'Left in His Closet', 'Love Always, Hobby and Jessie', 'Yesterday and Today', 'Everyman His Own Gravity', \"Something A'Kin to Haiku\", 'Below Sunlight', 'Tramps 47: From Prison to Parkbench to Pulpit', 'If Truth Were to Be Told', 'Night Train: A Novel', 'Keep Your Panties Up and Your Skirt Down', 'Temporary Power Outages', 'Tree Oracle - The True Story of Carmen Sylvia', 'Without Alice', 'تشريح الشخصية المصرية', 'We Were the Zonks!', 'A Subtle Thing', 'Stranded: Stories from the Edge of Infinity', 'No Lullaby for Tommy', 'The Cruiserweight', 'Liberation, Book One of the Andrusian Chronicles', \"Stacy's Story\", \"By Freedom's Light\", \"Letters from Frank: An American Terrorist's Life\", 'Forgotten Future Anthology', 'Your Future Demands Greatness', 'Ten Guardian Angels and a Tin Tub: A Memoir', \"Shhh...It's a Secret-The Power of Deliverance\", \"Farmer's Boy\", \"Ted L. Nancy's Afternoon Stories\", 'Tear Avenger', 'Murphy Blue', 'Michael Jackson: The Icon', 'Be a Man: The Plaid Manifesto', 'The Nine Orders: Peacekeeper Chronicles', 'Trailers', 'Share The Well', 'True Woman', 'The Gray Warriors', 'The Way I See It...', 'The Love Den Diaries - Volume 1', 'Creative Exercises to Inspire', 'Expedition Green Gold', 'Plus One: A Year in the Life of a Hollywood Nobody', 'The Hopeless Christiantic', 'Antidisestablishmentarianism', 'Knife of Truth, Road to Megara', 'A Lesion of Dissent', 'Desperate Hearts', 'Far From Over (Breaking Out Series, #4)', 'Reconsider Me: My Life And Times With Warren Zevon', \"God's Will\", 'Apollonia... and Other Writings', 'Mo Dearbadan de', 'Liar', 'Hope', 'Understanding Pornography and Sexual Addiction: A Resource for LDS Parents and Leaders', 'Character Education with Chess', \"Prepare For The Worst And Pray For The Best: A Layman's Guide To Surviving A Nation Gone Bad\", \"Mommy Can't You See... His EYES Are Always On Me!\", 'The Guys Who Spied For China', 'Hazardous Choices', '54 Spiritual Blessings in Christ: As Found in the Book of Ephesians', 'And Then There Was Life!', 'The Spaghetti Set: Family Served Italian Style', \"My Life and Spiritual Journey: From Tragedy to Acceptance,How One Atheist Looked Beyond Doctrines To Integrate Our World's Religions\", 'John Lennon: In Their Own Write, A Loving Tribute From His Friends and Fans', 'SACRIFICE', 'What If You Could Skip the Cancer?', 'Forever And Ever Amen', 'Braji', 'Coming Home (Set Free: An Amish Journey, #1)', 'Stop Thinking about It!: Winning the Emotional Battle Surrounding Food and Weight Loss', 'One Wish...Won Battle', 'Monsters Do Ugly Things', 'Freestyle For Life', 'Life Lyrics of Faith, Hope and Love', 'Enchanted Island', 'Amazing Grief A Healing Guide for Parents of Young Addicts', 'Touch: Making Contact With Climate Change', 'Simon Lazarus', \"After We're Free\", 'Um Cappuccino Vermelho', 'Lies That Bind', 'Boob Action (Boob Explosion, #2)', 'Another Second Chance', 'Tratado de Yôga', 'Summoning The Strength', 'Dating the Messenger: The Untold Story of a Clairvoyant', 'The Tribe of Tsulib', \"Heart's Blood\", \"Dark Solus: An Assassin's Tale\", 'Diamond in the rough', 'هنجراني', 'Live with Purpose: Die with Dignity', 'Lovesick: a novelistic memoir', 'The Twelve Steps Quotes', 'The Relationship Revelation', 'The Dreamer', 'Wounded Healers & Reconciliation Fatigue: The Search for Social Justice & Sustainable Development in South Africa', 'A Life Lived Ridiculously', 'Brotherly Love', 'The Nightmare Project: Book 1 of the Dangerous Minds Trilogy', 'Nell', 'Rayvon Works', \"THE UNDELIVERED SCORE: Letters from a poet's heart\", 'Two Rivers Close To A Dream', 'The Witch And the Familiar (Familiar #1-2)', 'An Impossible Dream Story', 'Equity of Evil', 'The Other Half of the Sky', 'Maternal Menace', 'Cider with Rosie & As I Walked Out One Summer Morning', 'Hooked on Phonics Master Reader', \"Irreconcilable Differences 'til death do us part\", 'the molecules that surround us', 'El futuro deseable del arte', 'The Call of the Christmas Pecan Tree', 'KABABAIHAN sa Kalinangan at Kasaysayang Pilipino', 'Words Can Help', 'Invoking Happenstance', 'The Golden Lane: Faja De Oro', 'Those enchanted four and half years', 'Tears for the Mountain', 'The Pirate Heir', 'The Time Workshops', \"Indigo's Fall\", '12 Precious Anecdotes from Life', 'Death Unseen', 'Health and Safety', 'Tangent', 'CAPTIVE', \"Il Mondo: One Man's World\", 'Cracks in the Pavement', 'Whatever Sticks Most', 'From Guam to Crown City Coronado (Thanks to Hermann, Missouri):  A Journey in Poesy', 'A Calendar Too Crowded', 'The Destiny of Sunshine Ranch', 'The Good News: How Revealing Delusions in Christianity Will Bring Peace to All: Dawkins Truth: Volume 1', 'P.T: \"Perpetual Traveler\"', 'Heading Home', 'Ashes', 'THE WINDS OF TIME: An Analytical Study of the Titans Who Shaped Western Civilization - Master Edition', 'Friends 2 Lovers: The Unthinkable (Volume 1)', 'Middle Damned', 'Trust Your Radar: Honest Advice For Teens and Young Adults from a Surgeon, Firefighter, Police Officer, Scuba Divemaster, Golfer, and Amateur Comedian', 'A Cure for the Condition (Cure Series #1)', 'One Night of Regrets: A Story of Restoration and Grace', 'A Little More Than Perfect: My Life With (And In Spite Of) Osteogenesis Imperfecta', 'The Burning Cedars', 'The Soul Trek', 'Alphabet Living', 'Making My Own Rainbows: Poems of love, life, and lamentation', 'A Walk Toward Jesus: Coming Through the Wilderness', 'Perfect Wedding', 'Signorina', 'Morning Thoughts And Meditations', 'Iris Investigates: Beastly Goings On In Pelican Wharf', 'Wylde Serenity', 'The Hill Barons Kitchen (Montecito Trilogy, Vol. I)', 'The Story of Nellie Bly', 'Darkseed: Awakening (Darkseed, #1)', \"The Average Joe's Guide to Play No Limit Texas Hold 'Em\", 'Cosmic Light', 'The Owl In The Tree', 'A New Way to Be Human: 7 Spiritual Pathways to Becoming Fully Alive', 'Moving Back To Normal', 'Cypress Hill', 'White Lilies in Autumn', 'Of Mind Or Matter', 'Unintended Lies', 'Six When He Came to Us: A Memoir of International Adoption', \"What's Sebastian Up to Now?\", 'Earth Sink', 'Doll Eyes', 'Wonder Fire', 'Thoughts for the Day: Reflections for the Soul', 'The Gokwe Kid - Dick of the Bushveld', 'The Divide', 'Slow Dying: The Bosnian War Prison Camp at Visoko Diary and Testimonies', 'Existence Is Futile', 'Random Rationality: A Rational Guide to an Irrational World', 'The Rogue Blades', 'Legends of the Amazon', 'They Call Me...Montey Greene (Identity Crisis Trilogy, #1)', 'The Battle of Surrender', 'Au-delà des mers salées... Un désir de liberté', 'Fragile Words: A Collection of Verses and Short Stories', 'Fastest Man In The World', 'Success, Money and You: Everybody knows how to become a millionaire', 'More Bull', 'AM I STILL AUTISTIC? How a Low-Functioning, Slightly Retarded Toddler Became CEO of a Multi-Million Dollar National Corporation', 'Be D.R.A.M.A.T.I.C.(TM) or No One Will Care !: Managing Change in Organizations', 'The 13th Apostle', 'Orion Transmissions Prophecy', 'When the Dust Settles', \"Ultra-Fat to Ultra-Fit: A Scientist's Rational Approach to Extreme Weight Loss and Optimal Fitness\", 'Broken Pottery: The Life of an African Girl', 'Let Me Wear Your Coat', 'Divine Innocence', 'From Mother to Mentor and Father to Coach: Mentoring Your Children Through the Rough Preteen and Teenage Years.', 'Media Magnetism: How to Attract the Favorable Publicity You Want and Deserve', 'Islands and Insulin', 'In Shadow and Strength', 'The Unconventional Life of Haee (Haee and the Other Middlings, #2)', 'THE HORNED GOD CHRONICLES: (Skull Bearer, #1)', 'HOW TO SAY NO TO ANYTHING AND MEAN IT', 'Just Like You', 'Attributes Of Mastery', 'Encore', 'Faith In What?', 'Too Rich For Rain (The Apricot Tree House Mystery Series, #5)', 'What The Torah Teaches Us About Life / Through The Themes Of The Weekly Torah Portions (4)', 'Strange Dreams', \"Writing to the Prompt: When Students Don't Have a Choice\", 'Heart of the Patriot', 'Searching for God in the Sixties', 'Hidden Embers', 'Life Is But A Dream', 'Winning Formulas Ebook', \"How the Wind Demon Been Save' the World\", 'Nirupa and the Book of Shadows', \"On Earth As It Is in Heaven: Spiritual Attunement for Living Out God's Power Abiding in You\", 'The Next Step: A Gobsmacking Odyssey of Reinvention', 'When Sam Set Sail', 'How Culture Makes Us Human: Primate Social Evolution and the Formation of Human Societies (Key Questions in Anthropology) (Volume 3)', 'AMERICANA, Boiled Alive in the Melting Pot', 'The Forgotten Sole', 'E.V.P. Electronic Voice Phenomenon', 'The Whole Price of Blood', 'Evolution: the future', 'Outside the Mists of Time', 'The Seeds We Sow, Kindness That Fed A Hungry World', 'Discovering Yourself', 'Beginnings: The First Book of the Genesis Chronicles', 'Get Your Self Scam Free', 'Blazing Night', 'Dear Friends Letters from Abroad', 'Damaged Soul - One American Story', \"Enthusiasm: A Novel Based on the Author's Own True Story\", '199 Ways To Improve Your Relationships, Marriage, and Sex Life', 'Imitating Humans: A Technical Approach', 'How To Get A Boyfriend', 'Piece of Mind - Pun Intended', 'Emocije', 'Rigged Game', 'The Water Nymph', 'MADAM PRESIDENT', \"Between the Notes: Making Art's Cello\", 'Secrets of the Winter Killer', 'Flirting with fate', 'The Silent Soldiers  (The Silent Soldiers #1)', 'Home To Oblivion', \"By Love Reclaimed Jean Harlow Returns to Clear Her Husband's Name\", 'Twisted Love: The Mayan Legend Returns', 'CONSPIRACY (Orphans of the Void #1)', 'Chaos Panzer', \"Jared's Island\", 'Sean Yeager: Hunters Hunted (Sean Yeager Adventures, #2)', 'Survival of the Fittest and How the Lost Boy Survived It All', 'Rosa SAT......: A True Story about People Who Pressed on', 'Disconnect Your Oughta-Pilot', 'Tastes and Tales from Russia', 'Walking to Bethlehem', 'Foxavier and Plinka', 'EVERWUD The TREE, The BOY & The DOG', '13 Pieces, Short Stories and Poetry', 'From The Unreal to the Real', 'In Black and White: Part One', 'Geld fressen Seele auf. Ein Enthüllungsroman', 'Off the Mat', 'The Eternal Kiss', 'Blood, Sweat, and High Heels: A Memoir', 'Of Life, Love and Family', 'Prolific Poetry', 'Stella Bellarosa: Tales of an Aspiring Teenage Superhero', 'Arctic Meltdown', 'Wounding Words', 'No More Dysfunctional Love', 'Las mil vidas del profesor Bonham', 'Galling Fire', 'The Nanobot Conspiracy: Fear The Dead', 'Powers of Influence', 'Unhinged', 'El Lienzo de Tintoretto', 'The Divine Family: Experiential Narratives', 'Beyond the Veil', 'ALOT TO SAY, SUMTHIN TO TALK ABOUT', 'Exodus', 'The Prophecy (Cascade Adventures, #0.5)', 'A Glimpse of Freedom: An American Tale of Love and War', \"Until One Has Loved an Animal: How Pets Affected One Vet's Soul\", 'Wedlocked - A (Not-So) Humorous Guide for the Matrimonially Challenged Man', 'Unbroken Spirit: The Struggle, the Arrest and the Release of a Prisoner of Zion', 'Age of Armageddon: The Spirit of Krynn', 'Der hinkende Rhythmus', 'Win Competitions Online (A Competitors Guide, #1)', 'Revealed Love (Angel Girl, #2)', 'Dreams of Love: A Book of Poems and Short Stories', 'Rise of the Guardian (Guardian of the Seventh Realm #5)', 'Gestapo Marseille', 'Carried by Angels', 'A Perfect Persecution', 'Ein Hauch von Magie', \"Starlet's Light (The Starlet, #3)\", \"Man's Ruin: An Exaggerated Life\", 'Delicate The alchemy of Emily Greyson', 'Realm of the Unknown', 'Universes Within the Universe', 'Tara de sub fluturi', 'Hands on Health: Take Your Vibrant, Whole Health Back Into Your Healing Hands', 'Spiritus Mundi (Spiritus Mundi, #1)', 'Our Virtuous Republic: The Forgotten Clause in the American Social Contract', 'The Commitment', 'Wasteland', 'ملاك جهنمي', 'The Lost Boy, The Doodlebug, and the Mysterious Number 80', 'Wensmoeder', 'Signs Of Life...Observations Of Death', 'The Girl From Limerick', \"Heaven's Gate\", 'My Bipolar World: A Collection Of Works By Sylvia Meier', 'The Sisters Bell', 'The Sojourn', 'Meeting Robyn', \"Federal City's Secret (#3)\", 'Inseparable', 'Small Tales and Visits to Heaven 2', 'Braco', \"The Siren's Tale (Home Schooling, #2)\", 'Hour of the Wolf', 'Disaster at the Arch', 'Lured In (Dark Paradise, #1)', 'Under the Shadow of Hope', 'Mengatasi Penyakit Hati', 'Lake Hollow', 'Delhi Return', \"Created for God's Pleasure: A Challenge for Single Women\", 'Off Grid', 'The Royal Rose of Alabama: The Gold Crown Pendant Affair (a Novel)', 'My Crooked Family', 'Murder on Haint Branch', 'Eagles in the flesh', 'A Fox Called Woff', 'Stop Saying Yes to Mr. No Good: Get Rid of Toxic Men Once and For All', 'GROWNSTUFF Soft lies; Harder Truths', 'Never Ending Dance', 'The Conjunction of the Realms, Part One', 'Epoch Dawning', 'Night of Essences of Phoenix and Serpent (Nonutopians, #1)', 'A Search In Time (Shadows of Light, #2)', 'Landscape of a Solitary Life', 'League of Angels', 'Roots and Shadows', 'Fledged (The Wiccan Diaries, #4)', 'A Gun and the Cross', 'Fossils of Memory', 'The Last Observer: A Magical Battle for reality', 'Death and Rising Are Through Human Flesh', 'A Psalm for Cock Robin: A Harp and His (Dead) Mother Mystery', 'قصاقيص حادة الحواف', 'Commanding Ray', 'Breathe', 'The Business Parables', 'Reach Out: Daily Verses of Biblical Encouragement for the Whole Year', 'Havana Queen', 'The key to successful, healthy weight loss', 'Out of Cuba: Memoir of a Journey', 'Finger Bones', 'Cornerstone (Endless Inheritance, #1)', 'Humans Need Three Hands: Will Human Nature destroy Nature and Humans?', 'Coast to Coast: A Prisoner of My Own Dream', 'Random Scribbles Vol. 1', 'Happiness Lost', \"Lexi's Legacy - The Saga Continues\", 'Path of Power: The First Great Misfortune', 'Fundamental Error: A Katla KillFile', 'A Season of War', 'I,Legal in the U.S.A. - a memoir', \"Charms on a Woman's Waist\", 'Delta the Dancing Elephant: A Memoir', 'Returning The Gift: Dialogues On Being At Peace Within Ourselves And The World, with Eckhart Tolle, Adyashanti, Timothy Wilson and Laura Waters Hinson', 'The Early Tales of Snow and Oakham', 'Mattius The Martian Hunter and The Silver Box Rick Zubrycki', 'Returns and Exchanges', 'Bombay, city of sandals', \"You'll Need a Guardian Angel\", 'Shadow', 'Reckless Little 15', 'The Book of Extremely Common Prayer', 'Once (Once series #1)', 'Aloha Joe in Hawaii', 'In Flanders Fields: Scottish Poetry and Prose of the First World War', \"L'indagine del detective Oneyed\", 'City of the Guardians', 'Push Start: A practical guide to jumpstart your life from average to awesome', 'Untitled (Volume II): Stories', 'Saturdays with Lillian', 'Reluctantly Exposed', 'Scott Bloom en de Dochters van Chenchen', 'Diaries of a College Girl', 'Another Unknown Soldier', 'Bedava Gergedan', 'Parenting Your Child Leader: Strategies for Helping Your Child Achieve their Leadership Potential', 'Journey to Joyful: Transform Your Life with Pranashama Yoga', 'Queen of Deception', 'About Love and Joy of Life: The Struggle for Survival in a Global World', 'Words From The Spirit', 'Haunting Me (The Ghost Series)', \"Melodies of My Life: A Disabled Girl's Journey to Womanhood\", \"The First Rule of Inner Peace: Jesus' Sacred Way to Make Things Right in Your Life\", 'Resurrecting Cybele', 'Conceived From Evil (Twisted Bloodlines #2)', 'The Shout of the Phoenix', 'A Touch Of Greatness', 'Where Mary Went', 'A Work in Progress - Life Love Fun Living in Australia (Part 1)', 'The Angel Affect: The World Wide Mission', 'Till Death Do Us Part', 'taRNished', 'For the Color of His Skin: The Murder of Yusuf Hawkins and the Trial of Bensonhurst', 'I Now Pronounce You Single & Happy', 'Benjamin', 'Idle, Wild, Love', 'Down This Road', 'Mireasma trandafirilor salbatici', 'Death Raise', 'Colors of the Wheel', 'Dolmens in the Blue Mountain', 'The Top 365 Fun, Uplifting, Motivating, and Inspirational Quotes of All Time', 'A Handful of Seventeenth Hill', 'The Vast Landscape', 'The True Natural (The True Natural #1)', 'Iron Butterfly: A Novel of Africa', '1 Love, 2 Religions: A Romantic Dilemma', 'Presidential Trail', 'When Angels Fall', 'The Adventures of Miss Mind Shift (Emerald City Nights #1)', 'The Sense of a Deity', 'Moonstone: The Incredible One Hour', 'Before the Dawn', 'Reason', 'Ember az országút szélén', 'The Human Race', 'Life Served Hot', 'The Soul Bearer - and other poems', \"A Lion's Pride\", 'Drifters', 'HOPE is my Wingman', 'Indian Renaissance: A New Age', 'A Year of Starless Nights', 'Journey Into The Mystic', 'The Golem & The Tzaddik', \"Carnal Abuse by Deceit: How a Predator's Lies Became Rape\", 'Heaven Sent', 'Runaway Bullet (Runaway, #3)', 'Night is Falling', 'Once Upon A Zombie', 'Thin Skin Soul Pinned', 'Stand Tough', 'Rose Colored Glasses', 'The Unseen Terrorist', 'Into The Mind of a Woman: 5 Shortcuts to Save Your Relationship', 'George', 'The Perfect Pair: The Enchanted Mirror', 'Hidden Hills', 'One Small Step', 'Solar Who? or How to See Yourself and Notice Somebody Else?', 'Tristan Stone and the Battle for Praetoria', 'Eternally Spring', 'The Unexpected', 'We Look For Magic and Feed the Hungry', 'The Idea of One Religion', 'Ballochmyle', 'Lovechild', \"David's Gift\", 'A Valley Experience (Inspirational Life Experiences, #1)', 'Shadows of the Heart (The Unicorns #1)', 'Color of My Soul', 'Into The Land Of Shadows', 'X Square', 'Und dein Lohn ist der Tod', 'Three Heads', 'Not Dead in the Heart of Dixie', 'Infinity', 'Journalism Ethics Goes to the Movies', 'Ordinary Magic', 'The Tale of Dribbles', \"The Opposite Of Poverty Is Friendship: You're Richer Than You Think\", 'Voices of the Heart, Mind, and Soul', 'My Five Stages of Grief: Poetry Anthology', 'Momentitiousness', 'Rendezvous With Hymera', 'WISDOM To SUCCESS: The Surefire Secrets To Accomplish All Your Dreams', 'The Vision of the Evening and the Morning', \"Rudy's Blueprint\", \"When Crazy's Coming, The Midlife Misadventures of a Midlife Diva (Book #1)\", 'Finding Sagrado', 'Dynamo', 'Bits and Pieces: Tales and Sonnets']\n"
          ]
        }
      ]
    },
    {
      "cell_type": "code",
      "source": [
        "from sklearn.neighbors import KNeighborsClassifier"
      ],
      "metadata": {
        "id": "gXnlexhri0ED"
      },
      "execution_count": null,
      "outputs": []
    },
    {
      "cell_type": "code",
      "source": [
        "book=pd.DataFrame(data['Book'])\n",
        "knn=KNeighborsClassifier(n_neighbors=5)\n",
        "knn.fit(x,book)\n",
        "new=input(\"Enter\")\n",
        "file2=open(\"f.txt\",\"w\")\n",
        "for i in new.split(\" \"):\n",
        "  file2.write(new)\n",
        "  file2.write(\" \")\n",
        "file2.close()\n",
        "new1=vectorizer.fit_transform([\"f.txt\"])\n",
        "e1=knn.predict(new1)\n",
        "print(e1)"
      ],
      "metadata": {
        "colab": {
          "base_uri": "https://localhost:8080/"
        },
        "id": "kqb_8PizmpIS",
        "outputId": "f1269590-5697-4597-c287-4f289a3ec145"
      },
      "execution_count": null,
      "outputs": [
        {
          "output_type": "stream",
          "name": "stderr",
          "text": [
            "/usr/local/lib/python3.10/dist-packages/sklearn/neighbors/_classification.py:215: DataConversionWarning: A column-vector y was passed when a 1d array was expected. Please change the shape of y to (n_samples,), for example using ravel().\n",
            "  return self._fit(X, y)\n"
          ]
        },
        {
          "output_type": "stream",
          "name": "stdout",
          "text": [
            "EnterClassics Historical\n",
            "[\"Zoroastrians' Fight for Survival (The Viking's Kurdish Love, #1)\"]\n"
          ]
        },
        {
          "output_type": "stream",
          "name": "stderr",
          "text": [
            "/usr/local/lib/python3.10/dist-packages/sklearn/base.py:439: UserWarning: X does not have valid feature names, but KNeighborsClassifier was fitted with feature names\n",
            "  warnings.warn(\n"
          ]
        }
      ]
    },
    {
      "cell_type": "code",
      "source": [],
      "metadata": {
        "id": "yc2g9Bg1-KvB"
      },
      "execution_count": null,
      "outputs": []
    },
    {
      "cell_type": "code",
      "source": [],
      "metadata": {
        "id": "sdKXjAgk-LVa"
      },
      "execution_count": null,
      "outputs": []
    },
    {
      "cell_type": "code",
      "source": [],
      "metadata": {
        "id": "snpdmUg7-LjZ"
      },
      "execution_count": null,
      "outputs": []
    },
    {
      "cell_type": "code",
      "source": [],
      "metadata": {
        "id": "499mc4df9lW3"
      },
      "execution_count": null,
      "outputs": []
    },
    {
      "cell_type": "code",
      "source": [
        "from sklearn.neighbors import NearestNeighbors\n",
        "nn=NearestNeighbors(n_neighbors=5)\n",
        "nn.fit(x)\n",
        "new2=[[\"Classics\"],[\"Historical\"]]\n",
        "new2=np.array(new2)\n",
        "new2=new2.reshape(1,-1)\n",
        "file3=open(\"f1.txt\",\"w\")\n",
        "for i in new.split(\" \"):\n",
        "  file3.write(new)\n",
        "  file3.write(\" \")\n",
        "file3.close()\n",
        "new2=vectorizer.fit_transform([\"f1.txt\"])\n",
        "nn1=nn.kneighbors(new2, 5, return_distance=False)\n",
        "def getlist(cnum,genres):\n",
        "  return np.array([i for i, x in enumerate(genres) if x == cnum])\n",
        "ret=getlist(nn1,genres)\n",
        "out1=[]\n",
        "for i in ret:\n",
        "  out1.append(data['Book'][i])\n",
        "print(out1)"
      ],
      "metadata": {
        "colab": {
          "base_uri": "https://localhost:8080/"
        },
        "id": "OOpvq-HcBTPx",
        "outputId": "4af30904-f41c-45f7-bf93-d44bcfeaefe4"
      },
      "execution_count": null,
      "outputs": [
        {
          "output_type": "stream",
          "name": "stdout",
          "text": [
            "[]\n"
          ]
        },
        {
          "output_type": "stream",
          "name": "stderr",
          "text": [
            "/usr/local/lib/python3.10/dist-packages/sklearn/base.py:439: UserWarning: X does not have valid feature names, but NearestNeighbors was fitted with feature names\n",
            "  warnings.warn(\n",
            "<ipython-input-42-4c4b65c1a7c9>:15: FutureWarning: elementwise comparison failed; returning scalar instead, but in the future will perform elementwise comparison\n",
            "  return np.array([i for i, x in enumerate(genres) if x == cnum])\n"
          ]
        }
      ]
    },
    {
      "cell_type": "code",
      "source": [],
      "metadata": {
        "id": "LEc90JrX9nND"
      },
      "execution_count": null,
      "outputs": []
    },
    {
      "cell_type": "code",
      "source": [],
      "metadata": {
        "id": "irTiLo5d9nxI"
      },
      "execution_count": null,
      "outputs": []
    },
    {
      "cell_type": "code",
      "source": [],
      "metadata": {
        "id": "RYbjvUY29oMh"
      },
      "execution_count": null,
      "outputs": []
    },
    {
      "cell_type": "code",
      "source": [],
      "metadata": {
        "id": "NUJj0mLF9oxN"
      },
      "execution_count": null,
      "outputs": []
    },
    {
      "cell_type": "code",
      "source": [],
      "metadata": {
        "id": "NbZETZT89idn"
      },
      "execution_count": null,
      "outputs": []
    },
    {
      "cell_type": "code",
      "source": [
        "for i in data['Genres'][30]:\n",
        "  print(i)"
      ],
      "metadata": {
        "colab": {
          "base_uri": "https://localhost:8080/"
        },
        "id": "ZZPPZzh2PK3O",
        "outputId": "5a598baa-36e8-4a94-c100-6eb8b7b7fb0a"
      },
      "execution_count": null,
      "outputs": [
        {
          "output_type": "stream",
          "name": "stdout",
          "text": [
            "Nonfiction\n",
            "Classics\n",
            "History\n",
            "Memoir\n",
            "Holocaust\n",
            "Biography\n",
            "School\n"
          ]
        }
      ]
    },
    {
      "cell_type": "code",
      "source": [
        "data['Book'][30]"
      ],
      "metadata": {
        "colab": {
          "base_uri": "https://localhost:8080/",
          "height": 35
        },
        "id": "95IGYxaoemXH",
        "outputId": "2b01c576-2c10-4239-cce5-fb7d5ff6f51f"
      },
      "execution_count": null,
      "outputs": [
        {
          "output_type": "execute_result",
          "data": {
            "text/plain": [
              "'Night  (The Night Trilogy, #1)'"
            ],
            "application/vnd.google.colaboratory.intrinsic+json": {
              "type": "string"
            }
          },
          "metadata": {},
          "execution_count": 49
        }
      ]
    },
    {
      "cell_type": "code",
      "source": [],
      "metadata": {
        "id": "JOj9bHDoqHsj"
      },
      "execution_count": null,
      "outputs": []
    }
  ]
}