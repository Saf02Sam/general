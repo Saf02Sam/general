{
  "nbformat": 4,
  "nbformat_minor": 0,
  "metadata": {
    "colab": {
      "provenance": [],
      "authorship_tag": "ABX9TyOQ8r7z4jppgGeUMp0Lg/jr"
    },
    "kernelspec": {
      "name": "python3",
      "display_name": "Python 3"
    },
    "language_info": {
      "name": "python"
    }
  },
  "cells": [
    {
      "cell_type": "code",
      "execution_count": 4,
      "metadata": {
        "colab": {
          "base_uri": "https://localhost:8080/"
        },
        "id": "1Ojf6wdYeHTl",
        "outputId": "b36a31f0-e90c-4b65-8e36-627eac32eb73"
      },
      "outputs": [
        {
          "output_type": "stream",
          "name": "stdout",
          "text": [
            "                                                 url      type\n",
            "0                         account-acces-security.com  phishing\n",
            "1             aliciakeysfan.com/no-one-first-single/      safe\n",
            "2                     answers.com/topic/james-arness      safe\n",
            "3  ciera.org/library/reports/inquiry-2/2-004/2-00...      safe\n",
            "4                               cwconsultores.cnt.br  phishing\n",
            "5                        dreamersandbelievers.com.au  phishing\n",
            "6                               heritage-survey.com/      safe\n",
            "7  http://9779.info/%E5%8A%A8%E7%89%A9%E7%BA%B8%E...   malware\n",
            "8  http://9779.info/%E5%B0%8F%E7%8F%AD%E5%B9%BC%E...   malware\n",
            "9  http://9779.info/%E8%A1%8D%E7%BA%B8%E8%B4%B4%E...   malware\n",
            "-------------------\n",
            "Accuracy: 0.5\n",
            "Prediction: safe\n"
          ]
        }
      ],
      "source": [
        "import pandas as pd\n",
        "import requests\n",
        "from bs4 import BeautifulSoup\n",
        "from sklearn.feature_extraction.text import CountVectorizer\n",
        "from sklearn.model_selection import train_test_split\n",
        "from sklearn.naive_bayes import MultinomialNB\n",
        "from sklearn import metrics\n",
        "\n",
        "#Read CSV file\n",
        "csv_file_path = r\"/content/malicious_phish.csv\"\n",
        "df = pd.read_csv(csv_file_path)\n",
        "print(df.head(10))\n",
        "\n",
        "def fetch_html_content(url):\n",
        "  try:\n",
        "    response = requests.get(url)\n",
        "    response.raise_for_status()\n",
        "    return response.text\n",
        "  except requests.exceptions.RequestException as e:\n",
        "    return None\n",
        "\n",
        "df['html_content'] = df['url'].apply(fetch_html_content)\n",
        "print(\"-------------------\")\n",
        "\n",
        "df = df.dropna(subset=['html_content'])\n",
        "\n",
        "x = df['html_content']\n",
        "y = df['type']\n",
        "\n",
        "x_train, x_test, y_train, y_test = train_test_split(x, y, test_size=0.2, random_state=1)\n",
        "\n",
        "vectorizer = CountVectorizer()\n",
        "x_train_vectorized = vectorizer.fit_transform(x_train)\n",
        "x_test_vectorized = vectorizer.transform(x_test)\n",
        "\n",
        "classifier = MultinomialNB()\n",
        "classifier.fit(x_train_vectorized, y_train)\n",
        "\n",
        "y_pred = classifier.predict(x_test_vectorized)\n",
        "\n",
        "accuracy = metrics.accuracy_score(y_test, y_pred)\n",
        "print(\"Accuracy:\", accuracy)\n",
        "\n",
        "new_url = \"https://insights.smartasset.com/disrupt\"\n",
        "new_html_content = fetch_html_content(new_url)\n",
        "if new_html_content:\n",
        "  new_html_content_vec = vectorizer.transform([new_html_content])\n",
        "  prediction = classifier.predict(new_html_content_vec)\n",
        "  print(\"Prediction:\", prediction[0])\n",
        "else:\n",
        "  print(\"Failed to fetch HTML content.\")"
      ]
    },
    {
      "cell_type": "code",
      "source": [],
      "metadata": {
        "id": "pzpIIkJBqY97"
      },
      "execution_count": null,
      "outputs": []
    }
  ]
}