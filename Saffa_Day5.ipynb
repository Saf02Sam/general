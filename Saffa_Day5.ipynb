{
  "nbformat": 4,
  "nbformat_minor": 0,
  "metadata": {
    "colab": {
      "provenance": [],
      "authorship_tag": "ABX9TyObqjMdK50C1ET1pusjHyky"
    },
    "kernelspec": {
      "name": "python3",
      "display_name": "Python 3"
    },
    "language_info": {
      "name": "python"
    }
  },
  "cells": [
    {
      "cell_type": "code",
      "execution_count": null,
      "metadata": {
        "colab": {
          "base_uri": "https://localhost:8080/"
        },
        "id": "-MCMItUMmM5V",
        "outputId": "e9d09e2c-b30b-4570-ea32-33ca8da3e050"
      },
      "outputs": [
        {
          "output_type": "stream",
          "name": "stdout",
          "text": [
            "Enter password\n",
            "ASDfgh123!@#\n",
            "Strong password\n"
          ]
        }
      ],
      "source": [
        "#password validity\n",
        "import re\n",
        "pwd=input(\"Enter password\\n\")\n",
        "if pwd=='':\n",
        "  print(\"enter pwd\")\n",
        "else:\n",
        "  if re.search('[a-z]',pwd):\n",
        "   if re.search('[A-Z]',pwd):\n",
        "     if re.search('[0-9]',pwd):\n",
        "       if (re.search('[!,@,#,$,%,^,&,*,(,),+,=,-,/,|,\\,.,_,<,>,?,:,;,{,}]',pwd)):\n",
        "         if not(re.search('[\\s]',pwd)):\n",
        "          if(len(pwd)>=8):\n",
        "            print(\"Strong password\")\n",
        "          else:\n",
        "            print(\"Password is too short\")\n",
        "         else:\n",
        "          print(\"Password cannot have spaces\")\n",
        "       else:\n",
        "         print(\"Weak password\\nEnter atleast 1 special character\")\n",
        "     else:\n",
        "      print(\"Weak password\\nEnter atleast 1 numeric character\")\n",
        "   else:\n",
        "     print(\"Weak password\\nEnter atleast 1 uppercase character\")\n",
        "  else:\n",
        "    print(\"Weak password\\nEnter atleast 1 lowercase character\")\n"
      ]
    },
    {
      "cell_type": "code",
      "source": [
        "pwd=input(\"Enter password\\n\")\n",
        "if (len(pwd)<8):\n",
        "  print(\"Password must be atleast 8 characters\")\n",
        "if (re.search('[\\s]',pwd)):\n",
        "  print(\"Password must not contain spaces\")\n",
        "sc,nc,uc,lc=0,0,0,0\n",
        "if re.search('[a-z]',pwd):\n",
        "  lc=1\n",
        "if re.search('[A-Z]',pwd):\n",
        "  uc=1\n",
        "if re.search('[0-9]',pwd):\n",
        "  nc=1\n",
        "if (re.search('[!,@,#,$,%,^,&,*,(,),+,=,-,/,|,\\,.,_,<,>,?,:,;,{,}]',pwd)):\n",
        "  sc=1\n",
        "if (sc==1 and lc==1 and uc==1 and nc==1):\n",
        "  print(\"Strong password\")\n",
        "else:\n",
        "  print(\"Weak password\")\n",
        "  if(sc==0):\n",
        "    print(\"Enter atleast 1 special character\")\n",
        "  if lc==0:\n",
        "    print(\"Enter atleast 1 lowercase character\")\n",
        "  if nc==0:\n",
        "    print(\"Enter atleast 1 numeric character\")\n",
        "  if uc==0:\n",
        "    print(\"Enter atleast 1 uppercase character\")\n"
      ],
      "metadata": {
        "colab": {
          "base_uri": "https://localhost:8080/"
        },
        "id": "eS4xzi-or_dz",
        "outputId": "b79876cb-036f-42cd-881f-91b6c387c5bf"
      },
      "execution_count": null,
      "outputs": [
        {
          "output_type": "stream",
          "name": "stdout",
          "text": [
            "Enter password\n",
            "ASDF123asdf%\n",
            "Strong password\n"
          ]
        }
      ]
    },
    {
      "cell_type": "code",
      "source": [
        "#Frozen sets\n",
        "#Frozen sets are immutable\n",
        "l=['a','b','c']\n",
        "f=frozenset(l)\n",
        "print(f)\n",
        "print(type(f))"
      ],
      "metadata": {
        "colab": {
          "base_uri": "https://localhost:8080/"
        },
        "id": "H76qsSNm1hb-",
        "outputId": "f4bb6416-6c71-4579-c87b-09fa839e3982"
      },
      "execution_count": null,
      "outputs": [
        {
          "output_type": "stream",
          "name": "stdout",
          "text": [
            "frozenset({'c', 'b', 'a'})\n",
            "<class 'frozenset'>\n"
          ]
        }
      ]
    },
    {
      "cell_type": "code",
      "source": [
        "li=[1,2,3,4,5]\n",
        "nli=[x for x in li if(x!=3)]\n",
        "print(nli)"
      ],
      "metadata": {
        "colab": {
          "base_uri": "https://localhost:8080/"
        },
        "id": "bdAg1d3U2Rt3",
        "outputId": "80b3fa4a-a4e4-4df6-813a-fa479e508ba5"
      },
      "execution_count": null,
      "outputs": [
        {
          "output_type": "stream",
          "name": "stdout",
          "text": [
            "[1, 2, 4, 5]\n"
          ]
        }
      ]
    },
    {
      "cell_type": "code",
      "source": [
        "ml=[x for x in range(1,11)]\n",
        "print(ml)"
      ],
      "metadata": {
        "colab": {
          "base_uri": "https://localhost:8080/"
        },
        "id": "a3miycuA5Kn8",
        "outputId": "0f45be8b-8436-4a1d-ef81-4f289b5b83f0"
      },
      "execution_count": null,
      "outputs": [
        {
          "output_type": "stream",
          "name": "stdout",
          "text": [
            "[1, 2, 3, 4, 5, 6, 7, 8, 9, 10]\n"
          ]
        }
      ]
    },
    {
      "cell_type": "code",
      "source": [
        "max=0\n",
        "for i in range(0,10):\n",
        "  if ml[i]>max:\n",
        "    max=ml[i]\n",
        "print(max)"
      ],
      "metadata": {
        "colab": {
          "base_uri": "https://localhost:8080/"
        },
        "id": "ZyMnfCs35i0f",
        "outputId": "247fc475-3330-48a5-c353-59c4a77f0272"
      },
      "execution_count": null,
      "outputs": [
        {
          "output_type": "stream",
          "name": "stdout",
          "text": [
            "10\n"
          ]
        }
      ]
    },
    {
      "cell_type": "code",
      "source": [
        "import datetime\n",
        "x=datetime.datetime.now()\n",
        "print(x)"
      ],
      "metadata": {
        "colab": {
          "base_uri": "https://localhost:8080/"
        },
        "id": "0nnQ0Dql8NCH",
        "outputId": "744ee176-048a-48d9-a5fe-865eac46d00d"
      },
      "execution_count": null,
      "outputs": [
        {
          "output_type": "stream",
          "name": "stdout",
          "text": [
            "2023-06-24 10:43:50.931613\n"
          ]
        }
      ]
    },
    {
      "cell_type": "code",
      "source": [
        "for i in range(1,6):\n",
        "  print(\"* \"*i)"
      ],
      "metadata": {
        "colab": {
          "base_uri": "https://localhost:8080/"
        },
        "id": "Ksxp4fwm-SZL",
        "outputId": "3009f10c-d4a5-4e87-ca73-baf8bab3bc7e"
      },
      "execution_count": null,
      "outputs": [
        {
          "output_type": "stream",
          "name": "stdout",
          "text": [
            "* \n",
            "* * \n",
            "* * * \n",
            "* * * * \n",
            "* * * * * \n"
          ]
        }
      ]
    },
    {
      "cell_type": "code",
      "source": [
        "for i in range(1,6):\n",
        "  print(\"  \"*(5-i),\"* \"*i)"
      ],
      "metadata": {
        "colab": {
          "base_uri": "https://localhost:8080/"
        },
        "id": "bmDxPho8-utC",
        "outputId": "d7b5274e-de46-41e1-8b74-a44343463351"
      },
      "execution_count": null,
      "outputs": [
        {
          "output_type": "stream",
          "name": "stdout",
          "text": [
            "         * \n",
            "       * * \n",
            "     * * * \n",
            "   * * * * \n",
            " * * * * * \n"
          ]
        }
      ]
    },
    {
      "cell_type": "code",
      "source": [
        "for i in range(1,6):\n",
        "  print(\"  \"*(5-i),\"* \"*((2*i)-1))"
      ],
      "metadata": {
        "colab": {
          "base_uri": "https://localhost:8080/"
        },
        "id": "_PjN_jxiDXaJ",
        "outputId": "b85880e1-5507-44fc-d253-71a0c4592eca"
      },
      "execution_count": null,
      "outputs": [
        {
          "output_type": "stream",
          "name": "stdout",
          "text": [
            "         * \n",
            "       * * * \n",
            "     * * * * * \n",
            "   * * * * * * * \n",
            " * * * * * * * * * \n"
          ]
        }
      ]
    },
    {
      "cell_type": "code",
      "source": [
        "for i in range(0,5):\n",
        "  print(\"  \"*(i+1),\"* \"*(2*(5-i)-1))"
      ],
      "metadata": {
        "colab": {
          "base_uri": "https://localhost:8080/"
        },
        "id": "xTGZk0auEId1",
        "outputId": "89c5869b-7188-4f03-ef07-9a93186184c0"
      },
      "execution_count": null,
      "outputs": [
        {
          "output_type": "stream",
          "name": "stdout",
          "text": [
            "   * * * * * * * * * \n",
            "     * * * * * * * \n",
            "       * * * * * \n",
            "         * * * \n",
            "           * \n"
          ]
        }
      ]
    },
    {
      "cell_type": "code",
      "source": [
        "for i in range(1,6):\n",
        "  print(\"  \"*(5-i),\"* \"*((2*i)-1))\n",
        "for i in range(1,5):\n",
        "  print(\"  \"*(i),\"* \"*(2*(5-i)-1))"
      ],
      "metadata": {
        "colab": {
          "base_uri": "https://localhost:8080/"
        },
        "id": "xPA3c1dZEggy",
        "outputId": "a16ce978-8b15-472f-9d5e-8821d110b80a"
      },
      "execution_count": null,
      "outputs": [
        {
          "output_type": "stream",
          "name": "stdout",
          "text": [
            "         * \n",
            "       * * * \n",
            "     * * * * * \n",
            "   * * * * * * * \n",
            " * * * * * * * * * \n",
            "   * * * * * * * \n",
            "     * * * * * \n",
            "       * * * \n",
            "         * \n"
          ]
        }
      ]
    },
    {
      "cell_type": "code",
      "source": [
        "for i in range(2,11):\n",
        "  print(i,\"  \",(11-i))"
      ],
      "metadata": {
        "colab": {
          "base_uri": "https://localhost:8080/"
        },
        "id": "o0Rd08hXEzSB",
        "outputId": "aab74b82-a294-477c-8e95-0aa96f39f10b"
      },
      "execution_count": null,
      "outputs": [
        {
          "output_type": "stream",
          "name": "stdout",
          "text": [
            "2    9\n",
            "3    8\n",
            "4    7\n",
            "5    6\n",
            "6    5\n",
            "7    4\n",
            "8    3\n",
            "9    2\n",
            "10    1\n"
          ]
        }
      ]
    },
    {
      "cell_type": "code",
      "source": [
        "for i in range(1,6):\n",
        "  for j in range(0,i):\n",
        "    print(i,end='')\n",
        "  print('')"
      ],
      "metadata": {
        "colab": {
          "base_uri": "https://localhost:8080/"
        },
        "id": "ZEOPjNksFK62",
        "outputId": "69e949d3-562f-439b-d072-99b376192409"
      },
      "execution_count": null,
      "outputs": [
        {
          "output_type": "stream",
          "name": "stdout",
          "text": [
            "1\n",
            "22\n",
            "333\n",
            "4444\n",
            "55555\n"
          ]
        }
      ]
    },
    {
      "cell_type": "code",
      "source": [
        "for i in range(5,0,-1):\n",
        "  for j in range(i,0,-1):\n",
        "    print(j,end='')\n",
        "  print('')"
      ],
      "metadata": {
        "colab": {
          "base_uri": "https://localhost:8080/"
        },
        "id": "8wow05qvFYVJ",
        "outputId": "9c32e82d-5a87-44c5-fab4-62cb53e61d58"
      },
      "execution_count": null,
      "outputs": [
        {
          "output_type": "stream",
          "name": "stdout",
          "text": [
            "54321\n",
            "4321\n",
            "321\n",
            "21\n",
            "1\n"
          ]
        }
      ]
    },
    {
      "cell_type": "code",
      "source": [
        "c=1\n",
        "for i in range(0,6):\n",
        "  for j in range(0,i):\n",
        "    print(c,end='  ')\n",
        "    c+=1\n",
        "  print('')"
      ],
      "metadata": {
        "colab": {
          "base_uri": "https://localhost:8080/"
        },
        "id": "-nnFQT0VF43f",
        "outputId": "2d0140f0-265f-4ee2-bd50-81af04f13952"
      },
      "execution_count": null,
      "outputs": [
        {
          "output_type": "stream",
          "name": "stdout",
          "text": [
            "\n",
            "1  \n",
            "2  3  \n",
            "4  5  6  \n",
            "7  8  9  10  \n",
            "11  12  13  14  15  \n"
          ]
        }
      ]
    },
    {
      "cell_type": "code",
      "source": [
        "c=1\n",
        "for i in range(5,0,-1):\n",
        "  for j in range(0,i):\n",
        "    print(c,end='  ')\n",
        "    c+=1\n",
        "  print('')"
      ],
      "metadata": {
        "colab": {
          "base_uri": "https://localhost:8080/"
        },
        "id": "PmSsveoeGbJk",
        "outputId": "60e43c0c-17db-4494-bfb4-22e9bdfda919"
      },
      "execution_count": null,
      "outputs": [
        {
          "output_type": "stream",
          "name": "stdout",
          "text": [
            "1  2  3  4  5  \n",
            "6  7  8  9  \n",
            "10  11  12  \n",
            "13  14  \n",
            "15  \n"
          ]
        }
      ]
    },
    {
      "cell_type": "code",
      "source": [
        "print(\"0 x 9 + 8 = 8\")\n",
        "for i in range(1,9):\n",
        "  for j in range(1,i+1):\n",
        "    print((10-j),end='')\n",
        "  print(' x 9 + ',(8-i),' = ','8'*(i+1))"
      ],
      "metadata": {
        "colab": {
          "base_uri": "https://localhost:8080/"
        },
        "id": "Ipjo1N1NGp8n",
        "outputId": "be8e73b2-a449-46f4-c978-3f2b532e99c3"
      },
      "execution_count": null,
      "outputs": [
        {
          "output_type": "stream",
          "name": "stdout",
          "text": [
            "0 x 9 + 8 = 8\n",
            "9 x 9 +  7  =  88\n",
            "98 x 9 +  6  =  888\n",
            "987 x 9 +  5  =  8888\n",
            "9876 x 9 +  4  =  88888\n",
            "98765 x 9 +  3  =  888888\n",
            "987654 x 9 +  2  =  8888888\n",
            "9876543 x 9 +  1  =  88888888\n",
            "98765432 x 9 +  0  =  888888888\n"
          ]
        }
      ]
    },
    {
      "cell_type": "code",
      "source": [
        "for i in range(1,11):\n",
        "  for j in range(1,i+1):\n",
        "    print(i*j,end='  ')\n",
        "  print('')"
      ],
      "metadata": {
        "colab": {
          "base_uri": "https://localhost:8080/"
        },
        "id": "YJLuMlIyHTKB",
        "outputId": "88d83971-3bbd-47fb-ad6a-dd3f13e97b6b"
      },
      "execution_count": null,
      "outputs": [
        {
          "output_type": "stream",
          "name": "stdout",
          "text": [
            "1  \n",
            "2  4  \n",
            "3  6  9  \n",
            "4  8  12  16  \n",
            "5  10  15  20  25  \n",
            "6  12  18  24  30  36  \n",
            "7  14  21  28  35  42  49  \n",
            "8  16  24  32  40  48  56  64  \n",
            "9  18  27  36  45  54  63  72  81  \n",
            "10  20  30  40  50  60  70  80  90  100  \n"
          ]
        }
      ]
    },
    {
      "cell_type": "code",
      "source": [
        "c=1\n",
        "for i in range(0,5):\n",
        "  print(\"    \"*(4-i),end='   ')\n",
        "  for j in range(0,i+1):\n",
        "    if(c<10):\n",
        "      print(c,end='   ')\n",
        "    else:\n",
        "      print(c,end='  ')\n",
        "    c+=1\n",
        "  print('')"
      ],
      "metadata": {
        "id": "rWrF5u8fIbWa",
        "colab": {
          "base_uri": "https://localhost:8080/"
        },
        "outputId": "d9567072-ee6a-448c-d26a-d75a5774ef36"
      },
      "execution_count": null,
      "outputs": [
        {
          "output_type": "stream",
          "name": "stdout",
          "text": [
            "                   1   \n",
            "               2   3   \n",
            "           4   5   6   \n",
            "       7   8   9   10  \n",
            "   11  12  13  14  15  \n"
          ]
        }
      ]
    },
    {
      "cell_type": "code",
      "source": [
        "for i in range(1,6):\n",
        "  print(\"A \"*i)"
      ],
      "metadata": {
        "colab": {
          "base_uri": "https://localhost:8080/"
        },
        "id": "KQ-Httlohw-j",
        "outputId": "0797e58b-60e0-4844-a381-8c8b79e7938e"
      },
      "execution_count": null,
      "outputs": [
        {
          "output_type": "stream",
          "name": "stdout",
          "text": [
            "A \n",
            "A A \n",
            "A A A \n",
            "A A A A \n",
            "A A A A A \n"
          ]
        }
      ]
    },
    {
      "cell_type": "code",
      "source": [
        "for i in range(0,5):\n",
        "  for j in range(0,i+1):\n",
        "    print(chr(j+65),\" \",end='')\n",
        "  print('')"
      ],
      "metadata": {
        "colab": {
          "base_uri": "https://localhost:8080/"
        },
        "id": "ws97sJRnjDpH",
        "outputId": "d4ee812f-da65-4738-cbb6-5c52564553d3"
      },
      "execution_count": null,
      "outputs": [
        {
          "output_type": "stream",
          "name": "stdout",
          "text": [
            "A  \n",
            "A  B  \n",
            "A  B  C  \n",
            "A  B  C  D  \n",
            "A  B  C  D  E  \n"
          ]
        }
      ]
    },
    {
      "cell_type": "code",
      "source": [
        "for i in range(1,4):\n",
        "  print(' '*(3-i),end='')\n",
        "  for j in range(0,(2*i)-1):\n",
        "    print(chr(j+65),end='')\n",
        "  print('')"
      ],
      "metadata": {
        "colab": {
          "base_uri": "https://localhost:8080/"
        },
        "id": "6fCAxMlIjvUx",
        "outputId": "a9f43119-b287-4c91-b229-2505672d5fa9"
      },
      "execution_count": null,
      "outputs": [
        {
          "output_type": "stream",
          "name": "stdout",
          "text": [
            "  A\n",
            " ABC\n",
            "ABCDE\n"
          ]
        }
      ]
    },
    {
      "cell_type": "code",
      "source": [],
      "metadata": {
        "id": "SDCKeNcFkABZ"
      },
      "execution_count": null,
      "outputs": []
    }
  ]
}