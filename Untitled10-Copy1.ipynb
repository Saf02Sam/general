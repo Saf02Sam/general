{
 "cells": [
  {
   "cell_type": "raw",
   "id": "6e8caff9",
   "metadata": {},
   "source": [
    "Attempt 1: ChatGPT"
   ]
  },
  {
   "cell_type": "code",
   "execution_count": 1,
   "id": "53ba7f7e",
   "metadata": {},
   "outputs": [
    {
     "name": "stdout",
     "output_type": "stream",
     "text": [
      "Mean: 47.02, Median: 40.0, Mode: 4\n"
     ]
    },
    {
     "name": "stderr",
     "output_type": "stream",
     "text": [
      "C:\\Users\\Saffa\\AppData\\Local\\Temp\\ipykernel_83436\\424335310.py:14: FutureWarning: Unlike other reduction functions (e.g. `skew`, `kurtosis`), the default behavior of `mode` typically preserves the axis it acts along. In SciPy 1.11.0, this behavior will change: the default value of `keepdims` will become False, the `axis` over which the statistic is taken will be eliminated, and the value None will no longer be accepted. Set `keepdims` to True or False to avoid this warning.\n",
      "  mode = stats.mode(numbers).mode[0]\n"
     ]
    }
   ],
   "source": [
    "import random\n",
    "import numpy as np\n",
    "from scipy import stats\n",
    "\n",
    "# Set seed for reproducibility\n",
    "random.seed(42)\n",
    "\n",
    "# Create a list of 50 random integers\n",
    "numbers = [random.randint(1, 100) for _ in range(50)]\n",
    "\n",
    "# Compute mean, median, and mode\n",
    "mean = np.mean(numbers)\n",
    "median = np.median(numbers)\n",
    "mode = stats.mode(numbers).mode[0]\n",
    "\n",
    "print(f\"Mean: {mean}, Median: {median}, Mode: {mode}\")\n"
   ]
  },
  {
   "cell_type": "raw",
   "id": "e49ff307",
   "metadata": {},
   "source": [
    "You said:\n",
    "give an  explanation for the code\n",
    "\n",
    "ChatGPT said:\n",
    "\n",
    "This code generates a list of 50 random integers and computes their mean, median, and mode.\n",
    "\n",
    "1. Imports: It imports necessary libraries: random for generating random integers, numpy for statistical calculations, and scipy.stats for mode calculation.\n",
    "2. Seed: random.seed(42) ensures that the random numbers are reproducible.\n",
    "3. List Creation: A list comprehension generates 50 random integers between 1 and 100.\n",
    "4. Calculations:\n",
    "   np.mean(numbers) computes the mean.\n",
    "   np.median(numbers) finds the median.\n",
    "   stats.mode(numbers).mode[0] retrieves the mode.\n",
    "5. Output: Finally, it prints the results."
   ]
  },
  {
   "cell_type": "raw",
   "id": "74d55acd",
   "metadata": {},
   "source": [
    "Providing this warning to ChatGPT:\n",
    "\n",
    "C:\\Users\\Saffa\\AppData\\Local\\Temp\\ipykernel_83436\\424335310.py:14: FutureWarning: Unlike other reduction functions (e.g. `skew`, `kurtosis`), the default behavior of `mode` typically preserves the axis it acts along. In SciPy 1.11.0, this behavior will change: the default value of `keepdims` will become False, the `axis` over which the statistic is taken will be eliminated, and the value None will no longer be accepted. Set `keepdims` to True or False to avoid this warning.\n",
    "  mode = stats.mode(numbers).mode[0]\n",
    "\n",
    "ChatGPT:\n",
    "\n",
    "To avoid the warning regarding the mode function in SciPy, you can explicitly set the keepdims parameter. Here’s the updated code:\n"
   ]
  },
  {
   "cell_type": "code",
   "execution_count": 3,
   "id": "c0486366",
   "metadata": {},
   "outputs": [
    {
     "ename": "IndexError",
     "evalue": "invalid index to scalar variable.",
     "output_type": "error",
     "traceback": [
      "\u001b[1;31m---------------------------------------------------------------------------\u001b[0m",
      "\u001b[1;31mIndexError\u001b[0m                                Traceback (most recent call last)",
      "\u001b[1;32m~\\AppData\\Local\\Temp\\ipykernel_83436\\3795883687.py\u001b[0m in \u001b[0;36m<module>\u001b[1;34m\u001b[0m\n\u001b[0;32m     12\u001b[0m \u001b[0mmean\u001b[0m \u001b[1;33m=\u001b[0m \u001b[0mnp\u001b[0m\u001b[1;33m.\u001b[0m\u001b[0mmean\u001b[0m\u001b[1;33m(\u001b[0m\u001b[0mnumbers\u001b[0m\u001b[1;33m)\u001b[0m\u001b[1;33m\u001b[0m\u001b[1;33m\u001b[0m\u001b[0m\n\u001b[0;32m     13\u001b[0m \u001b[0mmedian\u001b[0m \u001b[1;33m=\u001b[0m \u001b[0mnp\u001b[0m\u001b[1;33m.\u001b[0m\u001b[0mmedian\u001b[0m\u001b[1;33m(\u001b[0m\u001b[0mnumbers\u001b[0m\u001b[1;33m)\u001b[0m\u001b[1;33m\u001b[0m\u001b[1;33m\u001b[0m\u001b[0m\n\u001b[1;32m---> 14\u001b[1;33m \u001b[0mmode\u001b[0m \u001b[1;33m=\u001b[0m \u001b[0mstats\u001b[0m\u001b[1;33m.\u001b[0m\u001b[0mmode\u001b[0m\u001b[1;33m(\u001b[0m\u001b[0mnumbers\u001b[0m\u001b[1;33m,\u001b[0m \u001b[0mkeepdims\u001b[0m\u001b[1;33m=\u001b[0m\u001b[1;32mFalse\u001b[0m\u001b[1;33m)\u001b[0m\u001b[1;33m.\u001b[0m\u001b[0mmode\u001b[0m\u001b[1;33m[\u001b[0m\u001b[1;36m0\u001b[0m\u001b[1;33m]\u001b[0m\u001b[1;33m\u001b[0m\u001b[1;33m\u001b[0m\u001b[0m\n\u001b[0m\u001b[0;32m     15\u001b[0m \u001b[1;33m\u001b[0m\u001b[0m\n\u001b[0;32m     16\u001b[0m \u001b[0mprint\u001b[0m\u001b[1;33m(\u001b[0m\u001b[1;34mf\"Mean: {mean}, Median: {median}, Mode: {mode}\"\u001b[0m\u001b[1;33m)\u001b[0m\u001b[1;33m\u001b[0m\u001b[1;33m\u001b[0m\u001b[0m\n",
      "\u001b[1;31mIndexError\u001b[0m: invalid index to scalar variable."
     ]
    }
   ],
   "source": [
    "import random\n",
    "import numpy as np\n",
    "from scipy import stats\n",
    "\n",
    "# Set seed for reproducibility\n",
    "random.seed(42)\n",
    "\n",
    "# Create a list of 50 random integers\n",
    "numbers = [random.randint(1, 100) for _ in range(50)]\n",
    "\n",
    "# Compute mean, median, and mode\n",
    "mean = np.mean(numbers)\n",
    "median = np.median(numbers)\n",
    "mode = stats.mode(numbers, keepdims=False).mode[0]\n",
    "\n",
    "print(f\"Mean: {mean}, Median: {median}, Mode: {mode}\")\n"
   ]
  },
  {
   "cell_type": "raw",
   "id": "066fe86f",
   "metadata": {},
   "source": [
    "Providing this error to ChatGPT:\n",
    "\n",
    "---------------------------------------------------------------------------\n",
    "IndexError                                Traceback (most recent call last)\n",
    "~\\AppData\\Local\\Temp\\ipykernel_83436\\3795883687.py in <module>\n",
    "     12 mean = np.mean(numbers)\n",
    "     13 median = np.median(numbers)\n",
    "---> 14 mode = stats.mode(numbers, keepdims=False).mode[0]\n",
    "     15 \n",
    "     16 print(f\"Mean: {mean}, Median: {median}, Mode: {mode}\")\n",
    "\n",
    "IndexError: invalid index to scalar variable.\n",
    "\n",
    "ChatGPT:\n",
    "\n",
    "he IndexError suggests that the result from stats.mode() might be a scalar rather than an array when there's only one mode. You can handle this by checking if the mode result is scalar before trying to access it. Here's the updated code:\n",
    "(code below)\n",
    "In this version, the code checks if the mode is a scalar or an array, ensuring compatibility regardless of the result. This should eliminate the IndexError."
   ]
  },
  {
   "cell_type": "code",
   "execution_count": 4,
   "id": "abbe2128",
   "metadata": {},
   "outputs": [
    {
     "ename": "IndexError",
     "evalue": "invalid index to scalar variable.",
     "output_type": "error",
     "traceback": [
      "\u001b[1;31m---------------------------------------------------------------------------\u001b[0m",
      "\u001b[1;31mIndexError\u001b[0m                                Traceback (most recent call last)",
      "\u001b[1;32m~\\AppData\\Local\\Temp\\ipykernel_83436\\2807705633.py\u001b[0m in \u001b[0;36m<module>\u001b[1;34m\u001b[0m\n\u001b[0;32m     15\u001b[0m \u001b[1;33m\u001b[0m\u001b[0m\n\u001b[0;32m     16\u001b[0m \u001b[1;31m# Check if mode is a scalar or an array\u001b[0m\u001b[1;33m\u001b[0m\u001b[1;33m\u001b[0m\u001b[0m\n\u001b[1;32m---> 17\u001b[1;33m \u001b[0mmode\u001b[0m \u001b[1;33m=\u001b[0m \u001b[0mmode_result\u001b[0m\u001b[1;33m.\u001b[0m\u001b[0mmode\u001b[0m \u001b[1;32mif\u001b[0m \u001b[0misinstance\u001b[0m\u001b[1;33m(\u001b[0m\u001b[0mmode_result\u001b[0m\u001b[1;33m.\u001b[0m\u001b[0mmode\u001b[0m\u001b[1;33m,\u001b[0m \u001b[0mnp\u001b[0m\u001b[1;33m.\u001b[0m\u001b[0mndarray\u001b[0m\u001b[1;33m)\u001b[0m \u001b[1;32melse\u001b[0m \u001b[0mmode_result\u001b[0m\u001b[1;33m.\u001b[0m\u001b[0mmode\u001b[0m\u001b[1;33m[\u001b[0m\u001b[1;36m0\u001b[0m\u001b[1;33m]\u001b[0m\u001b[1;33m\u001b[0m\u001b[1;33m\u001b[0m\u001b[0m\n\u001b[0m\u001b[0;32m     18\u001b[0m \u001b[1;33m\u001b[0m\u001b[0m\n\u001b[0;32m     19\u001b[0m \u001b[0mprint\u001b[0m\u001b[1;33m(\u001b[0m\u001b[1;34mf\"Mean: {mean}, Median: {median}, Mode: {mode}\"\u001b[0m\u001b[1;33m)\u001b[0m\u001b[1;33m\u001b[0m\u001b[1;33m\u001b[0m\u001b[0m\n",
      "\u001b[1;31mIndexError\u001b[0m: invalid index to scalar variable."
     ]
    }
   ],
   "source": [
    "import random\n",
    "import numpy as np\n",
    "from scipy import stats\n",
    "\n",
    "# Set seed for reproducibility\n",
    "random.seed(42)\n",
    "\n",
    "# Create a list of 50 random integers\n",
    "numbers = [random.randint(1, 100) for _ in range(50)]\n",
    "\n",
    "# Compute mean, median, and mode\n",
    "mean = np.mean(numbers)\n",
    "median = np.median(numbers)\n",
    "mode_result = stats.mode(numbers, keepdims=False)\n",
    "\n",
    "# Check if mode is a scalar or an array\n",
    "mode = mode_result.mode if isinstance(mode_result.mode, np.ndarray) else mode_result.mode[0]\n",
    "\n",
    "print(f\"Mean: {mean}, Median: {median}, Mode: {mode}\")\n"
   ]
  },
  {
   "cell_type": "raw",
   "id": "06d9b3b2",
   "metadata": {},
   "source": [
    "Providing this error to ChatGPT:\n",
    "\n",
    "IndexError                                Traceback (most recent call last)\n",
    "~\\AppData\\Local\\Temp\\ipykernel_83436\\2807705633.py in <module>\n",
    "     15 \n",
    "     16 # Check if mode is a scalar or an array\n",
    "---> 17 mode = mode_result.mode if isinstance(mode_result.mode, np.ndarray) else mode_result.mode[0]\n",
    "     18 \n",
    "     19 print(f\"Mean: {mean}, Median: {median}, Mode: {mode}\")\n",
    "\n",
    "IndexError: invalid index to scalar variable.\n",
    "\n",
    "ChatGPT:\n",
    "\n",
    "It seems the mode result is a scalar value instead of an array. You can directly access the mode without checking for an array. Here’s the revised code:\n",
    "(code below)\n",
    "This should work without errors, as it directly assigns mode_result.mode. If there are multiple modes, it will just take the first one."
   ]
  },
  {
   "cell_type": "code",
   "execution_count": 5,
   "id": "9ccb4b38",
   "metadata": {},
   "outputs": [
    {
     "name": "stdout",
     "output_type": "stream",
     "text": [
      "Mean: 47.02, Median: 40.0, Mode: 4\n"
     ]
    }
   ],
   "source": [
    "import random\n",
    "import numpy as np\n",
    "from scipy import stats\n",
    "\n",
    "# Set seed for reproducibility\n",
    "random.seed(42)\n",
    "\n",
    "# Create a list of 50 random integers\n",
    "numbers = [random.randint(1, 100) for _ in range(50)]\n",
    "\n",
    "# Compute mean, median, and mode\n",
    "mean = np.mean(numbers)\n",
    "median = np.median(numbers)\n",
    "mode_result = stats.mode(numbers, keepdims=False)\n",
    "\n",
    "# Directly access the mode\n",
    "mode = mode_result.mode\n",
    "\n",
    "print(f\"Mean: {mean}, Median: {median}, Mode: {mode}\")\n"
   ]
  },
  {
   "cell_type": "raw",
   "id": "e2a744c5",
   "metadata": {},
   "source": [
    "My observation from this is that ChatGPT seems to know the aproppriate coding syntax but cannot always predict the type of outcome correctly."
   ]
  },
  {
   "cell_type": "raw",
   "id": "c5a07642",
   "metadata": {},
   "source": []
  },
  {
   "cell_type": "raw",
   "id": "da8c7163",
   "metadata": {},
   "source": [
    "Attempt 2: Gemini"
   ]
  },
  {
   "cell_type": "code",
   "execution_count": 6,
   "id": "b4cbc940",
   "metadata": {},
   "outputs": [
    {
     "name": "stdout",
     "output_type": "stream",
     "text": [
      "Mean: 50.84\n",
      "Median: 55.5\n",
      "Mode: 20\n"
     ]
    }
   ],
   "source": [
    "import numpy as np\n",
    "import statistics\n",
    "\n",
    "# Set a seed for reproducibility\n",
    "np.random.seed(42)\n",
    "\n",
    "# Create a list of 50 random numbers\n",
    "numbers = np.random.randint(0, 100, 50)\n",
    "\n",
    "# Calculate the mean, median, and mode\n",
    "mean = np.mean(numbers)\n",
    "median = np.median(numbers)\n",
    "mode = statistics.mode(numbers)\n",
    "\n",
    "print(\"Mean:\", mean)\n",
    "print(\"Median:\", median)\n",
    "print(\"Mode:\", mode)"
   ]
  },
  {
   "cell_type": "raw",
   "id": "d6a92c3c",
   "metadata": {},
   "source": [
    "Code Explanation\n",
    "\n",
    "Importing Necessary Libraries\n",
    "\n",
    "    numpy: A powerful library for numerical operations in Python. It provides functions for creating arrays, performing mathematical operations, and more.\n",
    "    statistics: A built-in module in Python that provides functions for calculating statistical measures.\n",
    "\n",
    "Setting the Seed for Reproducibility\n",
    "\n",
    "    np.random.seed(42): This line sets a seed for the random number generator. This means that every time you run the code with the same seed, you'll get the same sequence of random numbers. This is useful for debugging and ensuring consistency in your results.\n",
    "\n",
    "Creating a List of Random Numbers\n",
    "\n",
    "    np.random.randint(0, 100, 50): This line creates a NumPy array of 50 random integers between 0 and 99.\n",
    "\n",
    "Calculating Mean, Median, and Mode\n",
    "\n",
    "    mean = np.mean(numbers): This line calculates the mean (average) of the numbers in the list.\n",
    "    median = np.median(numbers): This line calculates the median (middle value) of the numbers in the list.\n",
    "    mode = statistics.mode(numbers): This line calculates the mode (most frequent value) of the numbers in the list.\n",
    "\n",
    "Printing the Results\n",
    "\n",
    "    print(\"Mean:\", mean): This line prints the calculated mean.\n",
    "    print(\"Median:\", median): This line prints the calculated median.\n",
    "    print(\"Mode:\", mode): This line prints the calculated mode.\n",
    "\n",
    "In summary, the code generates a list of random numbers, calculates their mean, median, and mode, and then prints the results. This is a common task in data analysis and statistics."
   ]
  },
  {
   "cell_type": "raw",
   "id": "ef56e876",
   "metadata": {},
   "source": [
    "Gemini has produced better code without any immediate errors"
   ]
  },
  {
   "cell_type": "raw",
   "id": "9763e4e1",
   "metadata": {},
   "source": []
  },
  {
   "cell_type": "raw",
   "id": "c789e533",
   "metadata": {},
   "source": [
    "Attempt 3: Copilot"
   ]
  },
  {
   "cell_type": "code",
   "execution_count": 8,
   "id": "55989b2f",
   "metadata": {},
   "outputs": [
    {
     "name": "stdout",
     "output_type": "stream",
     "text": [
      "List of numbers: [82, 15, 4, 95, 36, 32, 29, 18, 95, 14, 87, 95, 70, 12, 76, 55, 5, 4, 12, 28, 30, 65, 78, 4, 72, 26, 92, 84, 90, 70, 54, 29, 58, 76, 36, 1, 98, 21, 90, 55, 44, 36, 20, 28, 98, 44, 14, 12, 49, 13]\n",
      "Mean: 47.02\n",
      "Median: 40.0\n",
      "Mode: 4\n"
     ]
    }
   ],
   "source": [
    "import random\n",
    "import statistics\n",
    "\n",
    "# Set the seed for reproducibility\n",
    "random.seed(42)\n",
    "\n",
    "# Create a list of 50 random numbers\n",
    "random_numbers = [random.randint(1, 100) for _ in range(50)]\n",
    "\n",
    "# Compute the mean, median, and mode\n",
    "mean_value = statistics.mean(random_numbers)\n",
    "median_value = statistics.median(random_numbers)\n",
    "mode_value = statistics.mode(random_numbers)\n",
    "\n",
    "print(f\"List of numbers: {random_numbers}\")\n",
    "print(f\"Mean: {mean_value}\")\n",
    "print(f\"Median: {median_value}\")\n",
    "print(f\"Mode: {mode_value}\")\n"
   ]
  },
  {
   "cell_type": "raw",
   "id": "af05e59f",
   "metadata": {},
   "source": [
    "Code Explanation: \n",
    "\n",
    "Sure! Let’s break down the code step by step:\n",
    "\n",
    "    Importing Modules:\n",
    "    import random\n",
    "import statistics\n",
    "\n",
    "    random: This module is used to generate random numbers.\n",
    "    statistics: This module provides functions to calculate mathematical statistics of numeric data.\n",
    "\n",
    "Setting the Seed:\n",
    "random.seed(42)\n",
    "\n",
    "random.seed(42): This sets the seed for the random number generator to 42. Setting a seed ensures that the sequence of random numbers generated is the same every time you run the code, which is useful for reproducibility.\n",
    "\n",
    "Creating a List of 50 Random Numbers:\n",
    "random_numbers = [random.randint(1, 100) for _ in range(50)]\n",
    "\n",
    "This line creates a list of 50 random integers between 1 and 100. The list comprehension [random.randint(1, 100) for _ in range(50)] iterates 50 times (for _ in range(50)) and generates a random integer between 1 and 100 (random.randint(1, 100)) for each iteration.\n",
    "\n",
    "Computing the Mean, Median, and Mode:\n",
    "mean_value = statistics.mean(random_numbers)\n",
    "median_value = statistics.median(random_numbers)\n",
    "mode_value = statistics.mode(random_numbers)\n",
    "\n",
    "statistics.mean(random_numbers): Calculates the mean (average) of the list of numbers.\n",
    "statistics.median(random_numbers): Calculates the median (the middle value) of the list of numbers.\n",
    "statistics.mode(random_numbers): Calculates the mode (the most frequently occurring value) of the list of numbers\n",
    "\n",
    "Printing the Results:\n",
    "print(f\"List of numbers: {random_numbers}\")\n",
    "print(f\"Mean: {mean_value}\")\n",
    "print(f\"Median: {median_value}\")\n",
    "print(f\"Mode: {mode_value}\")\n",
    "These lines print the list of random numbers and the calculated mean, median, and mode.\n",
    "\n",
    "Here’s a summary of what the code does:\n",
    "\n",
    "    It generates a reproducible list of 50 random numbers.\n",
    "    It calculates and prints the mean, median, and mode of these numbers.\n"
   ]
  },
  {
   "cell_type": "raw",
   "id": "0d072208",
   "metadata": {},
   "source": [
    "Copilot gives the correct code and gives a more detailed and easy-to-understand explanation of the code"
   ]
  },
  {
   "cell_type": "raw",
   "id": "c45f1dd6",
   "metadata": {},
   "source": []
  }
 ],
 "metadata": {
  "kernelspec": {
   "display_name": "Python 3 (ipykernel)",
   "language": "python",
   "name": "python3"
  },
  "language_info": {
   "codemirror_mode": {
    "name": "ipython",
    "version": 3
   },
   "file_extension": ".py",
   "mimetype": "text/x-python",
   "name": "python",
   "nbconvert_exporter": "python",
   "pygments_lexer": "ipython3",
   "version": "3.9.13"
  }
 },
 "nbformat": 4,
 "nbformat_minor": 5
}
