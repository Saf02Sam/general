{
 "cells": [
  {
   "cell_type": "code",
   "execution_count": 1,
   "id": "baf251fb",
   "metadata": {},
   "outputs": [],
   "source": [
    "import numpy as np\n",
    "import pandas as pd\n",
    "import nltk\n",
    "import re"
   ]
  },
  {
   "cell_type": "code",
   "execution_count": 2,
   "id": "8ee3cb54",
   "metadata": {},
   "outputs": [],
   "source": [
    "data=pd.read_csv(r\"C:\\Users\\Saffa\\Downloads\\archive(1)\\Yelp Restaurant Reviews.csv\")"
   ]
  },
  {
   "cell_type": "code",
   "execution_count": 3,
   "id": "0af9240e",
   "metadata": {},
   "outputs": [
    {
     "data": {
      "text/html": [
       "<div>\n",
       "<style scoped>\n",
       "    .dataframe tbody tr th:only-of-type {\n",
       "        vertical-align: middle;\n",
       "    }\n",
       "\n",
       "    .dataframe tbody tr th {\n",
       "        vertical-align: top;\n",
       "    }\n",
       "\n",
       "    .dataframe thead th {\n",
       "        text-align: right;\n",
       "    }\n",
       "</style>\n",
       "<table border=\"1\" class=\"dataframe\">\n",
       "  <thead>\n",
       "    <tr style=\"text-align: right;\">\n",
       "      <th></th>\n",
       "      <th>Yelp URL</th>\n",
       "      <th>Rating</th>\n",
       "      <th>Date</th>\n",
       "      <th>Review Text</th>\n",
       "    </tr>\n",
       "  </thead>\n",
       "  <tbody>\n",
       "    <tr>\n",
       "      <th>0</th>\n",
       "      <td>https://www.yelp.com/biz/sidney-dairy-barn-sidney</td>\n",
       "      <td>5</td>\n",
       "      <td>1/22/2022</td>\n",
       "      <td>All I can say is they have very good ice cream...</td>\n",
       "    </tr>\n",
       "    <tr>\n",
       "      <th>1</th>\n",
       "      <td>https://www.yelp.com/biz/sidney-dairy-barn-sidney</td>\n",
       "      <td>4</td>\n",
       "      <td>6/26/2022</td>\n",
       "      <td>Nice little local place for ice cream.My favor...</td>\n",
       "    </tr>\n",
       "    <tr>\n",
       "      <th>2</th>\n",
       "      <td>https://www.yelp.com/biz/sidney-dairy-barn-sidney</td>\n",
       "      <td>5</td>\n",
       "      <td>8/7/2021</td>\n",
       "      <td>A delicious treat on a hot day! Staff was very...</td>\n",
       "    </tr>\n",
       "    <tr>\n",
       "      <th>3</th>\n",
       "      <td>https://www.yelp.com/biz/sidney-dairy-barn-sidney</td>\n",
       "      <td>4</td>\n",
       "      <td>7/28/2016</td>\n",
       "      <td>This was great service and a fun crew! I got t...</td>\n",
       "    </tr>\n",
       "    <tr>\n",
       "      <th>4</th>\n",
       "      <td>https://www.yelp.com/biz/sidney-dairy-barn-sidney</td>\n",
       "      <td>5</td>\n",
       "      <td>6/23/2015</td>\n",
       "      <td>This is one of my favorite places to get ice c...</td>\n",
       "    </tr>\n",
       "  </tbody>\n",
       "</table>\n",
       "</div>"
      ],
      "text/plain": [
       "                                            Yelp URL  Rating       Date  \\\n",
       "0  https://www.yelp.com/biz/sidney-dairy-barn-sidney       5  1/22/2022   \n",
       "1  https://www.yelp.com/biz/sidney-dairy-barn-sidney       4  6/26/2022   \n",
       "2  https://www.yelp.com/biz/sidney-dairy-barn-sidney       5   8/7/2021   \n",
       "3  https://www.yelp.com/biz/sidney-dairy-barn-sidney       4  7/28/2016   \n",
       "4  https://www.yelp.com/biz/sidney-dairy-barn-sidney       5  6/23/2015   \n",
       "\n",
       "                                         Review Text  \n",
       "0  All I can say is they have very good ice cream...  \n",
       "1  Nice little local place for ice cream.My favor...  \n",
       "2  A delicious treat on a hot day! Staff was very...  \n",
       "3  This was great service and a fun crew! I got t...  \n",
       "4  This is one of my favorite places to get ice c...  "
      ]
     },
     "execution_count": 3,
     "metadata": {},
     "output_type": "execute_result"
    }
   ],
   "source": [
    "data.head()"
   ]
  },
  {
   "cell_type": "code",
   "execution_count": 4,
   "id": "4e9b0bad",
   "metadata": {},
   "outputs": [
    {
     "name": "stdout",
     "output_type": "stream",
     "text": [
      "<class 'pandas.core.frame.DataFrame'>\n",
      "RangeIndex: 19896 entries, 0 to 19895\n",
      "Data columns (total 4 columns):\n",
      " #   Column       Non-Null Count  Dtype \n",
      "---  ------       --------------  ----- \n",
      " 0   Yelp URL     19896 non-null  object\n",
      " 1   Rating       19896 non-null  int64 \n",
      " 2   Date         19896 non-null  object\n",
      " 3   Review Text  19896 non-null  object\n",
      "dtypes: int64(1), object(3)\n",
      "memory usage: 621.9+ KB\n"
     ]
    }
   ],
   "source": [
    "data.info()\n",
    "#no null entries"
   ]
  },
  {
   "cell_type": "code",
   "execution_count": 5,
   "id": "ca2e28bb",
   "metadata": {},
   "outputs": [
    {
     "name": "stderr",
     "output_type": "stream",
     "text": [
      "C:\\Users\\Saffa\\AppData\\Local\\Temp\\ipykernel_4380\\2222695594.py:5: SettingWithCopyWarning: \n",
      "A value is trying to be set on a copy of a slice from a DataFrame\n",
      "\n",
      "See the caveats in the documentation: https://pandas.pydata.org/pandas-docs/stable/user_guide/indexing.html#returning-a-view-versus-a-copy\n",
      "  data['Liked'][c]=1\n"
     ]
    }
   ],
   "source": [
    "data['Liked']=-1\n",
    "c=0\n",
    "for x in data['Rating']:\n",
    "  if x>=3:\n",
    "    data['Liked'][c]=1\n",
    "  c+=1\n",
    "  #if rating = 1, 2, liked = -1 (negative)\n",
    "  #if rating = 4, 5, liked= 1 (positive)"
   ]
  },
  {
   "cell_type": "code",
   "execution_count": 6,
   "id": "ebc634db",
   "metadata": {},
   "outputs": [
    {
     "name": "stderr",
     "output_type": "stream",
     "text": [
      "[nltk_data] Downloading package stopwords to\n",
      "[nltk_data]     C:\\Users\\Saffa\\AppData\\Roaming\\nltk_data...\n",
      "[nltk_data]   Package stopwords is already up-to-date!\n"
     ]
    }
   ],
   "source": [
    "nltk.download('stopwords')\n",
    "from nltk.corpus import stopwords"
   ]
  },
  {
   "cell_type": "code",
   "execution_count": 7,
   "id": "c4733982",
   "metadata": {},
   "outputs": [
    {
     "name": "stderr",
     "output_type": "stream",
     "text": [
      "C:\\Users\\Saffa\\AppData\\Local\\Temp\\ipykernel_4380\\3410274660.py:3: SettingWithCopyWarning: \n",
      "A value is trying to be set on a copy of a slice from a DataFrame\n",
      "\n",
      "See the caveats in the documentation: https://pandas.pydata.org/pandas-docs/stable/user_guide/indexing.html#returning-a-view-versus-a-copy\n",
      "  data['Review Text'][i]=re.sub('[^a-zA-Z]',' ',data['Review Text'][i])\n"
     ]
    }
   ],
   "source": [
    "data['Corpus']=''\n",
    "for i in range(data[data.columns[0]].count()):\n",
    "  data['Review Text'][i]=re.sub('[^a-zA-Z]',' ',data['Review Text'][i])\n",
    "  "
   ]
  },
  {
   "cell_type": "code",
   "execution_count": 8,
   "id": "b0a9a94d",
   "metadata": {
    "scrolled": true
   },
   "outputs": [
    {
     "name": "stderr",
     "output_type": "stream",
     "text": [
      "C:\\Users\\Saffa\\AppData\\Local\\Temp\\ipykernel_4380\\3741311429.py:2: SettingWithCopyWarning: \n",
      "A value is trying to be set on a copy of a slice from a DataFrame\n",
      "\n",
      "See the caveats in the documentation: https://pandas.pydata.org/pandas-docs/stable/user_guide/indexing.html#returning-a-view-versus-a-copy\n",
      "  data['Review Text'][i]=data['Review Text'][i].lower()\n",
      "C:\\Users\\Saffa\\AppData\\Local\\Temp\\ipykernel_4380\\3741311429.py:3: SettingWithCopyWarning: \n",
      "A value is trying to be set on a copy of a slice from a DataFrame\n",
      "\n",
      "See the caveats in the documentation: https://pandas.pydata.org/pandas-docs/stable/user_guide/indexing.html#returning-a-view-versus-a-copy\n",
      "  data['Review Text'][i]=data['Review Text'][i].split(\" \")\n"
     ]
    }
   ],
   "source": [
    "for i in range(data[data.columns[0]].count()):\n",
    "    data['Review Text'][i]=data['Review Text'][i].lower()\n",
    "    data['Review Text'][i]=data['Review Text'][i].split(\" \")"
   ]
  },
  {
   "cell_type": "code",
   "execution_count": 9,
   "id": "5132e38b",
   "metadata": {},
   "outputs": [
    {
     "name": "stderr",
     "output_type": "stream",
     "text": [
      "C:\\Users\\Saffa\\AppData\\Local\\Temp\\ipykernel_4380\\2498151383.py:4: SettingWithCopyWarning: \n",
      "A value is trying to be set on a copy of a slice from a DataFrame\n",
      "\n",
      "See the caveats in the documentation: https://pandas.pydata.org/pandas-docs/stable/user_guide/indexing.html#returning-a-view-versus-a-copy\n",
      "  data['Corpus'][i]=data['Corpus'][i]+' '+word\n"
     ]
    }
   ],
   "source": [
    "for i in range(data[data.columns[0]].count()):\n",
    "    for word in data['Review Text'][i]:\n",
    "        if word not in stopwords.words('english'):\n",
    "            data['Corpus'][i]=data['Corpus'][i]+' '+word"
   ]
  },
  {
   "cell_type": "code",
   "execution_count": 10,
   "id": "b269745e",
   "metadata": {},
   "outputs": [
    {
     "data": {
      "text/html": [
       "<div>\n",
       "<style scoped>\n",
       "    .dataframe tbody tr th:only-of-type {\n",
       "        vertical-align: middle;\n",
       "    }\n",
       "\n",
       "    .dataframe tbody tr th {\n",
       "        vertical-align: top;\n",
       "    }\n",
       "\n",
       "    .dataframe thead th {\n",
       "        text-align: right;\n",
       "    }\n",
       "</style>\n",
       "<table border=\"1\" class=\"dataframe\">\n",
       "  <thead>\n",
       "    <tr style=\"text-align: right;\">\n",
       "      <th></th>\n",
       "      <th>Yelp URL</th>\n",
       "      <th>Rating</th>\n",
       "      <th>Date</th>\n",
       "      <th>Review Text</th>\n",
       "      <th>Liked</th>\n",
       "      <th>Corpus</th>\n",
       "    </tr>\n",
       "  </thead>\n",
       "  <tbody>\n",
       "    <tr>\n",
       "      <th>19886</th>\n",
       "      <td>https://www.yelp.com/biz/la-pasticceria-las-vegas</td>\n",
       "      <td>5</td>\n",
       "      <td>3/21/2022</td>\n",
       "      <td>[delicious, , we, got, a, breakfast, sandwich,...</td>\n",
       "      <td>1</td>\n",
       "      <td>delicious  got breakfast sandwich good  also ...</td>\n",
       "    </tr>\n",
       "    <tr>\n",
       "      <th>19887</th>\n",
       "      <td>https://www.yelp.com/biz/la-pasticceria-las-vegas</td>\n",
       "      <td>1</td>\n",
       "      <td>10/22/2021</td>\n",
       "      <td>[we, came, here, looking, to, try, wonderful, ...</td>\n",
       "      <td>-1</td>\n",
       "      <td>came looking try wonderful desserts  ordered ...</td>\n",
       "    </tr>\n",
       "    <tr>\n",
       "      <th>19888</th>\n",
       "      <td>https://www.yelp.com/biz/la-pasticceria-las-vegas</td>\n",
       "      <td>4</td>\n",
       "      <td>11/8/2019</td>\n",
       "      <td>[out, of, all, the, food, kiosks, that, were, ...</td>\n",
       "      <td>1</td>\n",
       "      <td>food kiosks eataly  one stood la pasticceria ...</td>\n",
       "    </tr>\n",
       "    <tr>\n",
       "      <th>19889</th>\n",
       "      <td>https://www.yelp.com/biz/la-pasticceria-las-vegas</td>\n",
       "      <td>4</td>\n",
       "      <td>6/30/2019</td>\n",
       "      <td>[there, s, an, endless, selection, of, italian...</td>\n",
       "      <td>1</td>\n",
       "      <td>endless selection italian food options inside...</td>\n",
       "    </tr>\n",
       "    <tr>\n",
       "      <th>19890</th>\n",
       "      <td>https://www.yelp.com/biz/la-pasticceria-las-vegas</td>\n",
       "      <td>5</td>\n",
       "      <td>8/5/2021</td>\n",
       "      <td>[great, gelato, and, great, milkshakes, , stop...</td>\n",
       "      <td>1</td>\n",
       "      <td>great gelato great milkshakes  stopped din ta...</td>\n",
       "    </tr>\n",
       "    <tr>\n",
       "      <th>19891</th>\n",
       "      <td>https://www.yelp.com/biz/la-pasticceria-las-vegas</td>\n",
       "      <td>4</td>\n",
       "      <td>7/17/2021</td>\n",
       "      <td>[had, the, chocolate, cannoli, , the, filling,...</td>\n",
       "      <td>1</td>\n",
       "      <td>chocolate cannoli  filling rich delicious  ca...</td>\n",
       "    </tr>\n",
       "    <tr>\n",
       "      <th>19892</th>\n",
       "      <td>https://www.yelp.com/biz/la-pasticceria-las-vegas</td>\n",
       "      <td>4</td>\n",
       "      <td>10/21/2019</td>\n",
       "      <td>[love, apricot, croissant, , i, bought, it, at...</td>\n",
       "      <td>1</td>\n",
       "      <td>love apricot croissant  bought      pm  norma...</td>\n",
       "    </tr>\n",
       "    <tr>\n",
       "      <th>19893</th>\n",
       "      <td>https://www.yelp.com/biz/la-pasticceria-las-vegas</td>\n",
       "      <td>4</td>\n",
       "      <td>10/12/2019</td>\n",
       "      <td>[line, was, about, , , , people, long, , it, w...</td>\n",
       "      <td>1</td>\n",
       "      <td>line    people long  went fast  variety pastr...</td>\n",
       "    </tr>\n",
       "    <tr>\n",
       "      <th>19894</th>\n",
       "      <td>https://www.yelp.com/biz/la-pasticceria-las-vegas</td>\n",
       "      <td>5</td>\n",
       "      <td>4/11/2021</td>\n",
       "      <td>[its, hard, not, to, order, everything, when, ...</td>\n",
       "      <td>1</td>\n",
       "      <td>hard order everything come good  also order i...</td>\n",
       "    </tr>\n",
       "    <tr>\n",
       "      <th>19895</th>\n",
       "      <td>https://www.yelp.com/biz/la-pasticceria-las-vegas</td>\n",
       "      <td>4</td>\n",
       "      <td>9/3/2019</td>\n",
       "      <td>[every, mall, needs, an, eataly, for, real, , ...</td>\n",
       "      <td>1</td>\n",
       "      <td>every mall needs eataly real  la pasticceria ...</td>\n",
       "    </tr>\n",
       "  </tbody>\n",
       "</table>\n",
       "</div>"
      ],
      "text/plain": [
       "                                                Yelp URL  Rating        Date  \\\n",
       "19886  https://www.yelp.com/biz/la-pasticceria-las-vegas       5   3/21/2022   \n",
       "19887  https://www.yelp.com/biz/la-pasticceria-las-vegas       1  10/22/2021   \n",
       "19888  https://www.yelp.com/biz/la-pasticceria-las-vegas       4   11/8/2019   \n",
       "19889  https://www.yelp.com/biz/la-pasticceria-las-vegas       4   6/30/2019   \n",
       "19890  https://www.yelp.com/biz/la-pasticceria-las-vegas       5    8/5/2021   \n",
       "19891  https://www.yelp.com/biz/la-pasticceria-las-vegas       4   7/17/2021   \n",
       "19892  https://www.yelp.com/biz/la-pasticceria-las-vegas       4  10/21/2019   \n",
       "19893  https://www.yelp.com/biz/la-pasticceria-las-vegas       4  10/12/2019   \n",
       "19894  https://www.yelp.com/biz/la-pasticceria-las-vegas       5   4/11/2021   \n",
       "19895  https://www.yelp.com/biz/la-pasticceria-las-vegas       4    9/3/2019   \n",
       "\n",
       "                                             Review Text  Liked  \\\n",
       "19886  [delicious, , we, got, a, breakfast, sandwich,...      1   \n",
       "19887  [we, came, here, looking, to, try, wonderful, ...     -1   \n",
       "19888  [out, of, all, the, food, kiosks, that, were, ...      1   \n",
       "19889  [there, s, an, endless, selection, of, italian...      1   \n",
       "19890  [great, gelato, and, great, milkshakes, , stop...      1   \n",
       "19891  [had, the, chocolate, cannoli, , the, filling,...      1   \n",
       "19892  [love, apricot, croissant, , i, bought, it, at...      1   \n",
       "19893  [line, was, about, , , , people, long, , it, w...      1   \n",
       "19894  [its, hard, not, to, order, everything, when, ...      1   \n",
       "19895  [every, mall, needs, an, eataly, for, real, , ...      1   \n",
       "\n",
       "                                                  Corpus  \n",
       "19886   delicious  got breakfast sandwich good  also ...  \n",
       "19887   came looking try wonderful desserts  ordered ...  \n",
       "19888   food kiosks eataly  one stood la pasticceria ...  \n",
       "19889   endless selection italian food options inside...  \n",
       "19890   great gelato great milkshakes  stopped din ta...  \n",
       "19891   chocolate cannoli  filling rich delicious  ca...  \n",
       "19892   love apricot croissant  bought      pm  norma...  \n",
       "19893   line    people long  went fast  variety pastr...  \n",
       "19894   hard order everything come good  also order i...  \n",
       "19895   every mall needs eataly real  la pasticceria ...  "
      ]
     },
     "execution_count": 10,
     "metadata": {},
     "output_type": "execute_result"
    }
   ],
   "source": [
    "data.tail(10)"
   ]
  },
  {
   "cell_type": "code",
   "execution_count": 13,
   "id": "8ceef3b4",
   "metadata": {},
   "outputs": [],
   "source": [
    "from nltk.stem.snowball import SnowballStemmer\n",
    "ss=SnowballStemmer('english')"
   ]
  },
  {
   "cell_type": "code",
   "execution_count": 14,
   "id": "b9aeed7c",
   "metadata": {},
   "outputs": [
    {
     "data": {
      "text/html": [
       "<div>\n",
       "<style scoped>\n",
       "    .dataframe tbody tr th:only-of-type {\n",
       "        vertical-align: middle;\n",
       "    }\n",
       "\n",
       "    .dataframe tbody tr th {\n",
       "        vertical-align: top;\n",
       "    }\n",
       "\n",
       "    .dataframe thead th {\n",
       "        text-align: right;\n",
       "    }\n",
       "</style>\n",
       "<table border=\"1\" class=\"dataframe\">\n",
       "  <thead>\n",
       "    <tr style=\"text-align: right;\">\n",
       "      <th></th>\n",
       "      <th>Rating</th>\n",
       "      <th>Review Text</th>\n",
       "      <th>Liked</th>\n",
       "      <th>Corpus</th>\n",
       "    </tr>\n",
       "  </thead>\n",
       "  <tbody>\n",
       "    <tr>\n",
       "      <th>0</th>\n",
       "      <td>5</td>\n",
       "      <td>[all, i, can, say, is, they, have, very, good,...</td>\n",
       "      <td>1</td>\n",
       "      <td>say good ice cream would sure recommend cooki...</td>\n",
       "    </tr>\n",
       "    <tr>\n",
       "      <th>1</th>\n",
       "      <td>4</td>\n",
       "      <td>[nice, little, local, place, for, ice, cream, ...</td>\n",
       "      <td>1</td>\n",
       "      <td>nice little local place ice cream favorite pu...</td>\n",
       "    </tr>\n",
       "    <tr>\n",
       "      <th>2</th>\n",
       "      <td>5</td>\n",
       "      <td>[a, delicious, treat, on, a, hot, day, , staff...</td>\n",
       "      <td>1</td>\n",
       "      <td>delicious treat hot day  staff friendly helpf...</td>\n",
       "    </tr>\n",
       "    <tr>\n",
       "      <th>3</th>\n",
       "      <td>4</td>\n",
       "      <td>[this, was, great, service, and, a, fun, crew,...</td>\n",
       "      <td>1</td>\n",
       "      <td>great service fun crew  got banana cream pie ...</td>\n",
       "    </tr>\n",
       "    <tr>\n",
       "      <th>4</th>\n",
       "      <td>5</td>\n",
       "      <td>[this, is, one, of, my, favorite, places, to, ...</td>\n",
       "      <td>1</td>\n",
       "      <td>one favorite places get ice cream cu area  bi...</td>\n",
       "    </tr>\n",
       "  </tbody>\n",
       "</table>\n",
       "</div>"
      ],
      "text/plain": [
       "   Rating                                        Review Text  Liked  \\\n",
       "0       5  [all, i, can, say, is, they, have, very, good,...      1   \n",
       "1       4  [nice, little, local, place, for, ice, cream, ...      1   \n",
       "2       5  [a, delicious, treat, on, a, hot, day, , staff...      1   \n",
       "3       4  [this, was, great, service, and, a, fun, crew,...      1   \n",
       "4       5  [this, is, one, of, my, favorite, places, to, ...      1   \n",
       "\n",
       "                                              Corpus  \n",
       "0   say good ice cream would sure recommend cooki...  \n",
       "1   nice little local place ice cream favorite pu...  \n",
       "2   delicious treat hot day  staff friendly helpf...  \n",
       "3   great service fun crew  got banana cream pie ...  \n",
       "4   one favorite places get ice cream cu area  bi...  "
      ]
     },
     "execution_count": 14,
     "metadata": {},
     "output_type": "execute_result"
    }
   ],
   "source": [
    "data=data.drop('Yelp URL',axis=1)\n",
    "data=data.drop('Date',axis=1)\n",
    "data.head()"
   ]
  },
  {
   "cell_type": "code",
   "execution_count": 15,
   "id": "4b3de7e7",
   "metadata": {},
   "outputs": [
    {
     "name": "stderr",
     "output_type": "stream",
     "text": [
      "C:\\Users\\Saffa\\AppData\\Local\\Temp\\ipykernel_4380\\1653350252.py:2: SettingWithCopyWarning: \n",
      "A value is trying to be set on a copy of a slice from a DataFrame\n",
      "\n",
      "See the caveats in the documentation: https://pandas.pydata.org/pandas-docs/stable/user_guide/indexing.html#returning-a-view-versus-a-copy\n",
      "  data['Corpus'][i]=data['Corpus'][i].split(\" \")\n",
      "C:\\Users\\Saffa\\AppData\\Local\\Temp\\ipykernel_4380\\1653350252.py:3: SettingWithCopyWarning: \n",
      "A value is trying to be set on a copy of a slice from a DataFrame\n",
      "\n",
      "See the caveats in the documentation: https://pandas.pydata.org/pandas-docs/stable/user_guide/indexing.html#returning-a-view-versus-a-copy\n",
      "  data['Corpus'][i]=[ss.stem(word) for word in data['Corpus'][i]]\n",
      "C:\\Users\\Saffa\\AppData\\Local\\Temp\\ipykernel_4380\\1653350252.py:4: SettingWithCopyWarning: \n",
      "A value is trying to be set on a copy of a slice from a DataFrame\n",
      "\n",
      "See the caveats in the documentation: https://pandas.pydata.org/pandas-docs/stable/user_guide/indexing.html#returning-a-view-versus-a-copy\n",
      "  data['Corpus'][i]=\" \".join(data['Corpus'][i])\n"
     ]
    }
   ],
   "source": [
    "for i in range(data[data.columns[0]].count()):\n",
    "    data['Corpus'][i]=data['Corpus'][i].split(\" \")\n",
    "    data['Corpus'][i]=[ss.stem(word) for word in data['Corpus'][i]]\n",
    "    data['Corpus'][i]=\" \".join(data['Corpus'][i])"
   ]
  },
  {
   "cell_type": "code",
   "execution_count": 16,
   "id": "7a328022",
   "metadata": {},
   "outputs": [
    {
     "data": {
      "text/html": [
       "<div>\n",
       "<style scoped>\n",
       "    .dataframe tbody tr th:only-of-type {\n",
       "        vertical-align: middle;\n",
       "    }\n",
       "\n",
       "    .dataframe tbody tr th {\n",
       "        vertical-align: top;\n",
       "    }\n",
       "\n",
       "    .dataframe thead th {\n",
       "        text-align: right;\n",
       "    }\n",
       "</style>\n",
       "<table border=\"1\" class=\"dataframe\">\n",
       "  <thead>\n",
       "    <tr style=\"text-align: right;\">\n",
       "      <th></th>\n",
       "      <th>Rating</th>\n",
       "      <th>Review Text</th>\n",
       "      <th>Liked</th>\n",
       "      <th>Corpus</th>\n",
       "    </tr>\n",
       "  </thead>\n",
       "  <tbody>\n",
       "    <tr>\n",
       "      <th>0</th>\n",
       "      <td>5</td>\n",
       "      <td>[all, i, can, say, is, they, have, very, good,...</td>\n",
       "      <td>1</td>\n",
       "      <td>say good ice cream would sure recommend cooki...</td>\n",
       "    </tr>\n",
       "    <tr>\n",
       "      <th>1</th>\n",
       "      <td>4</td>\n",
       "      <td>[nice, little, local, place, for, ice, cream, ...</td>\n",
       "      <td>1</td>\n",
       "      <td>nice littl local place ice cream favorit pump...</td>\n",
       "    </tr>\n",
       "    <tr>\n",
       "      <th>2</th>\n",
       "      <td>5</td>\n",
       "      <td>[a, delicious, treat, on, a, hot, day, , staff...</td>\n",
       "      <td>1</td>\n",
       "      <td>delici treat hot day  staff friend help   gav...</td>\n",
       "    </tr>\n",
       "    <tr>\n",
       "      <th>3</th>\n",
       "      <td>4</td>\n",
       "      <td>[this, was, great, service, and, a, fun, crew,...</td>\n",
       "      <td>1</td>\n",
       "      <td>great servic fun crew  got banana cream pie c...</td>\n",
       "    </tr>\n",
       "    <tr>\n",
       "      <th>4</th>\n",
       "      <td>5</td>\n",
       "      <td>[this, is, one, of, my, favorite, places, to, ...</td>\n",
       "      <td>1</td>\n",
       "      <td>one favorit place get ice cream cu area  bit ...</td>\n",
       "    </tr>\n",
       "    <tr>\n",
       "      <th>5</th>\n",
       "      <td>5</td>\n",
       "      <td>[i, ve, been, coming, to, this, ice, cream, st...</td>\n",
       "      <td>1</td>\n",
       "      <td>come ice cream stand sinc littl girl back    ...</td>\n",
       "    </tr>\n",
       "    <tr>\n",
       "      <th>6</th>\n",
       "      <td>1</td>\n",
       "      <td>[the, soft, serve, is, way, too, sweet, and, h...</td>\n",
       "      <td>-1</td>\n",
       "      <td>soft serv way sweet strang splenda like after...</td>\n",
       "    </tr>\n",
       "    <tr>\n",
       "      <th>7</th>\n",
       "      <td>5</td>\n",
       "      <td>[my, husband, and, i, stopped, here, on, the, ...</td>\n",
       "      <td>1</td>\n",
       "      <td>husband stop way back monticello westvill  go...</td>\n",
       "    </tr>\n",
       "    <tr>\n",
       "      <th>8</th>\n",
       "      <td>5</td>\n",
       "      <td>[little, piece, of, heaven, , the, best, ice, ...</td>\n",
       "      <td>1</td>\n",
       "      <td>littl piec heaven  best ice cream shop near c...</td>\n",
       "    </tr>\n",
       "    <tr>\n",
       "      <th>9</th>\n",
       "      <td>2</td>\n",
       "      <td>[went, here, for, the, , st, time, tonight, , ...</td>\n",
       "      <td>-1</td>\n",
       "      <td>went  st time tonight  order turtl tornado  e...</td>\n",
       "    </tr>\n",
       "  </tbody>\n",
       "</table>\n",
       "</div>"
      ],
      "text/plain": [
       "   Rating                                        Review Text  Liked  \\\n",
       "0       5  [all, i, can, say, is, they, have, very, good,...      1   \n",
       "1       4  [nice, little, local, place, for, ice, cream, ...      1   \n",
       "2       5  [a, delicious, treat, on, a, hot, day, , staff...      1   \n",
       "3       4  [this, was, great, service, and, a, fun, crew,...      1   \n",
       "4       5  [this, is, one, of, my, favorite, places, to, ...      1   \n",
       "5       5  [i, ve, been, coming, to, this, ice, cream, st...      1   \n",
       "6       1  [the, soft, serve, is, way, too, sweet, and, h...     -1   \n",
       "7       5  [my, husband, and, i, stopped, here, on, the, ...      1   \n",
       "8       5  [little, piece, of, heaven, , the, best, ice, ...      1   \n",
       "9       2  [went, here, for, the, , st, time, tonight, , ...     -1   \n",
       "\n",
       "                                              Corpus  \n",
       "0   say good ice cream would sure recommend cooki...  \n",
       "1   nice littl local place ice cream favorit pump...  \n",
       "2   delici treat hot day  staff friend help   gav...  \n",
       "3   great servic fun crew  got banana cream pie c...  \n",
       "4   one favorit place get ice cream cu area  bit ...  \n",
       "5   come ice cream stand sinc littl girl back    ...  \n",
       "6   soft serv way sweet strang splenda like after...  \n",
       "7   husband stop way back monticello westvill  go...  \n",
       "8   littl piec heaven  best ice cream shop near c...  \n",
       "9   went  st time tonight  order turtl tornado  e...  "
      ]
     },
     "execution_count": 16,
     "metadata": {},
     "output_type": "execute_result"
    }
   ],
   "source": [
    "data.head(10)"
   ]
  },
  {
   "cell_type": "code",
   "execution_count": 17,
   "id": "b99aa252",
   "metadata": {},
   "outputs": [],
   "source": [
    "corpus=[]\n",
    "for i in range(data[data.columns[0]].count()):\n",
    "    for word in data['Corpus'][i].split(\" \"):\n",
    "        corpus.append(word)"
   ]
  },
  {
   "cell_type": "code",
   "execution_count": 18,
   "id": "c673fb70",
   "metadata": {},
   "outputs": [],
   "source": [
    "from sklearn.feature_extraction.text import CountVectorizer\n",
    "cv=CountVectorizer(max_features=1500)\n",
    "x=cv.fit_transform(data['Corpus']).toarray()\n",
    "y=data['Liked']"
   ]
  },
  {
   "cell_type": "code",
   "execution_count": 19,
   "id": "a179ef25",
   "metadata": {},
   "outputs": [],
   "source": [
    "from sklearn.model_selection import train_test_split\n",
    "x_train,x_test,y_train,y_test=train_test_split(x,y,test_size=0.033,random_state=5)"
   ]
  },
  {
   "cell_type": "code",
   "execution_count": 20,
   "id": "a05bd9b1",
   "metadata": {},
   "outputs": [],
   "source": [
    "from sklearn.naive_bayes import GaussianNB\n",
    "classifier=GaussianNB()\n",
    "classifier.fit(x_train,y_train)\n",
    "y_pred=classifier.predict(x_test)"
   ]
  },
  {
   "cell_type": "code",
   "execution_count": 21,
   "id": "3b108240",
   "metadata": {},
   "outputs": [
    {
     "name": "stdout",
     "output_type": "stream",
     "text": [
      "0.791476407914764\n",
      "\n",
      "[[ 74  13]\n",
      " [124 446]]\n",
      "\n",
      "              precision    recall  f1-score   support\n",
      "\n",
      "          -1       0.37      0.85      0.52        87\n",
      "           1       0.97      0.78      0.87       570\n",
      "\n",
      "    accuracy                           0.79       657\n",
      "   macro avg       0.67      0.82      0.69       657\n",
      "weighted avg       0.89      0.79      0.82       657\n",
      "\n"
     ]
    }
   ],
   "source": [
    "from sklearn.metrics import classification_report, accuracy_score, confusion_matrix\n",
    "print(accuracy_score(y_test,y_pred))\n",
    "print()\n",
    "print(confusion_matrix(y_test,y_pred))\n",
    "print()\n",
    "print(classification_report(y_test,y_pred))"
   ]
  },
  {
   "cell_type": "code",
   "execution_count": 22,
   "id": "d94deb5e",
   "metadata": {},
   "outputs": [],
   "source": [
    "y_p=[]\n",
    "x_train1=np.array(x_train)\n",
    "y_train1=np.array(y_train)\n",
    "for i in x_test:\n",
    "    classifier.fit(x_train1,y_train1)\n",
    "    y_pred1=classifier.predict(i.reshape(1,-1))\n",
    "    y_p.append(y_pred1)\n",
    "    i=i.reshape(1,-1)\n",
    "    x_train1=np.append(x_train1,i,axis=0)\n",
    "    y_train1=np.append(y_train1,y_pred1,axis=0)"
   ]
  },
  {
   "cell_type": "code",
   "execution_count": 23,
   "id": "19946242",
   "metadata": {},
   "outputs": [
    {
     "name": "stdout",
     "output_type": "stream",
     "text": [
      "0.786910197869102\n",
      "\n",
      "[[ 74  13]\n",
      " [127 443]]\n",
      "\n",
      "              precision    recall  f1-score   support\n",
      "\n",
      "          -1       0.37      0.85      0.51        87\n",
      "           1       0.97      0.78      0.86       570\n",
      "\n",
      "    accuracy                           0.79       657\n",
      "   macro avg       0.67      0.81      0.69       657\n",
      "weighted avg       0.89      0.79      0.82       657\n",
      "\n"
     ]
    }
   ],
   "source": [
    "print(accuracy_score(y_test,y_p))\n",
    "print()\n",
    "print(confusion_matrix(y_test,y_p))\n",
    "print()\n",
    "print(classification_report(y_test,y_p))"
   ]
  },
  {
   "cell_type": "code",
   "execution_count": null,
   "id": "244b7a10",
   "metadata": {},
   "outputs": [],
   "source": []
  },
  {
   "cell_type": "code",
   "execution_count": null,
   "id": "ba962f43",
   "metadata": {},
   "outputs": [],
   "source": []
  },
  {
   "cell_type": "code",
   "execution_count": null,
   "id": "4284dd72",
   "metadata": {},
   "outputs": [],
   "source": []
  }
 ],
 "metadata": {
  "kernelspec": {
   "display_name": "Python 3 (ipykernel)",
   "language": "python",
   "name": "python3"
  },
  "language_info": {
   "codemirror_mode": {
    "name": "ipython",
    "version": 3
   },
   "file_extension": ".py",
   "mimetype": "text/x-python",
   "name": "python",
   "nbconvert_exporter": "python",
   "pygments_lexer": "ipython3",
   "version": "3.9.13"
  }
 },
 "nbformat": 4,
 "nbformat_minor": 5
}
