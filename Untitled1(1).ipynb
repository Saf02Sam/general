{
 "cells": [
  {
   "cell_type": "code",
   "execution_count": 14,
   "id": "8dbb2d8a",
   "metadata": {},
   "outputs": [
    {
     "name": "stderr",
     "output_type": "stream",
     "text": [
      "C:\\Users\\Saffa\\AppData\\Local\\Temp\\ipykernel_32540\\1148941187.py:7: SettingWithCopyWarning: \n",
      "A value is trying to be set on a copy of a slice from a DataFrame\n",
      "\n",
      "See the caveats in the documentation: https://pandas.pydata.org/pandas-docs/stable/user_guide/indexing.html#returning-a-view-versus-a-copy\n",
      "  data['Genres'][i]=data['Genres'][i].split(\" \")\n"
     ]
    },
    {
     "name": "stdout",
     "output_type": "stream",
     "text": [
      "Enter genresNonfiction Classics History Memoir Holocaust Biography School\n",
      "['The Diary of a Young Girl', 'Night  (The Night Trilogy, #1)', 'The Hiding Place: The Triumphant True Story of Corrie Ten Boom', 'If This Is a Man • The Truce', 'The Drowned and the Saved', 'Managing Bubbie']\n"
     ]
    },
    {
     "name": "stderr",
     "output_type": "stream",
     "text": [
      "C:\\Users\\Saffa\\anaconda3\\lib\\site-packages\\sklearn\\base.py:450: UserWarning: X does not have valid feature names, but KMeans was fitted with feature names\n",
      "  warnings.warn(\n"
     ]
    }
   ],
   "source": [
    "import pandas as pd\n",
    "import re\n",
    "data=pd.read_csv(r\"C:\\Users\\Saffa\\Downloads\\archive(2)\\goodreads_data.csv\")\n",
    "data['Genres'] = data['Genres'].apply(lambda x: re.sub(r'[^a-zA-Z0-9\\s]', '', x))\n",
    "genres=[]\n",
    "for i in range(0,data[data.columns[0]].count()):\n",
    "    data['Genres'][i]=data['Genres'][i].split(\" \")\n",
    "    for j in data['Genres'][i]:\n",
    "        if j not in genres:\n",
    "            genres.append(j)\n",
    "data=data.drop('Unnamed: 0',axis=1)\n",
    "data=data.drop('Description',axis=1)\n",
    "data=data.drop('URL',axis=1)\n",
    "data.head()\n",
    "t=[]\n",
    "for i in range(0,data[data.columns[0]].count()):\n",
    "    file1=open(f\"f{i}.txt\",'w')\n",
    "    for word in data['Genres'][i]:\n",
    "        file1.write(word)\n",
    "        file1.write(\" \")\n",
    "    file1.close()\n",
    "    t.append(f\"f{i}.txt\")\n",
    "from sklearn.feature_extraction.text import CountVectorizer\n",
    "vectorizer = CountVectorizer(input='filename',vocabulary=genres,lowercase=False)\n",
    "x = vectorizer.fit_transform(t)\n",
    "x=pd.DataFrame(x.toarray(),columns = vectorizer.vocabulary_.keys())\n",
    "from sklearn.cluster import KMeans\n",
    "km=KMeans(n_clusters=2000)\n",
    "km.fit(x)\n",
    "lab=km.labels_\n",
    "kmi=input(\"Enter genres\")\n",
    "file1=open(\"fnew.txt\",'w')\n",
    "file1.write(kmi)\n",
    "file1.close()\n",
    "y=vectorizer.fit_transform([\"fnew.txt\"])\n",
    "y1=km.predict(y)\n",
    "import numpy as np\n",
    "def getlist(cnum,genres):\n",
    "    return np.array([i for i, x in enumerate(genres) if x == cnum])\n",
    "ret=getlist(y1, km.labels_)\n",
    "out1=[]\n",
    "for i in ret:\n",
    "    out1.append(data['Book'][i])\n",
    "print(out1)"
   ]
  },
  {
   "cell_type": "code",
   "execution_count": null,
   "id": "fb78cd69",
   "metadata": {},
   "outputs": [],
   "source": []
  },
  {
   "cell_type": "code",
   "execution_count": null,
   "id": "ea93cf82",
   "metadata": {},
   "outputs": [],
   "source": []
  }
 ],
 "metadata": {
  "kernelspec": {
   "display_name": "Python 3 (ipykernel)",
   "language": "python",
   "name": "python3"
  },
  "language_info": {
   "codemirror_mode": {
    "name": "ipython",
    "version": 3
   },
   "file_extension": ".py",
   "mimetype": "text/x-python",
   "name": "python",
   "nbconvert_exporter": "python",
   "pygments_lexer": "ipython3",
   "version": "3.9.13"
  }
 },
 "nbformat": 4,
 "nbformat_minor": 5
}
