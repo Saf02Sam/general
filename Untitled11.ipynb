{
  "nbformat": 4,
  "nbformat_minor": 0,
  "metadata": {
    "colab": {
      "provenance": [],
      "authorship_tag": "ABX9TyNXoZRjClyGK9vU93//Qo1S"
    },
    "kernelspec": {
      "name": "python3",
      "display_name": "Python 3"
    },
    "language_info": {
      "name": "python"
    }
  },
  "cells": [
    {
      "cell_type": "code",
      "execution_count": null,
      "metadata": {
        "id": "wOeb0lNzUY9Y"
      },
      "outputs": [],
      "source": [
        "from textblob import TextBlob\n",
        "\n",
        "def analyze_sentiment(review):\n",
        "    analysis = TextBlob(review)\n",
        "    #Get the polarity score\n",
        "    polarity = analysis.sentiment.polarity\n",
        "    if polarity >0:\n",
        "      sentiment = 'positive'\n",
        "    elif polarity <0:\n",
        "      sentiment = 'negative'\n",
        "    else:\n",
        "      sentiment = 'neutral'\n",
        "    return sentiment, polarity\n",
        "\n",
        "#Prompt user for input\n",
        "customer_review = input(\"Please enter your product review: \\n\")\n",
        "\n",
        "#Analyze sentiment\n",
        "sentiment, polarity = analyze_sentiment(customer_review)\n",
        "\n",
        "#Print results\n",
        "print(f\"Sentiment: {sentiment}\")\n",
        "print(f\"Polarity: {polarity}\")"
      ]
    },
    {
      "cell_type": "code",
      "source": [],
      "metadata": {
        "id": "dNDao5ZuVUwn"
      },
      "execution_count": null,
      "outputs": []
    }
  ]
}